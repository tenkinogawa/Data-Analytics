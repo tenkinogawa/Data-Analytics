{
 "cells": [
  {
   "cell_type": "markdown",
   "id": "90454e95",
   "metadata": {},
   "source": [
    "# Lab 6 - Gaussian Process"
   ]
  },
  {
   "cell_type": "markdown",
   "id": "eb2010f5",
   "metadata": {},
   "source": [
    "In general, Gaussian Process (GP) is a stochastic process used for modeling data, which were observed over time, space or both. Main thing that can characterise GP is that is a kind of generalization of normal probability distributions, where each of them describes a random variable (scalar or vector if we deal with multivariate distribution).\n",
    "\n",
    "Following definition captures the essence of Gaussian Process: \n",
    "\n",
    "A Gaussian process is a collection of random variables, any Gaussian process finite number of which have a joint Gaussian distribution.\n",
    "\n",
    "\n",
    "If we define mean function $m(x)$ and the covariance function mean function $k(x,x')$ of a real process $f(x)$ as:\n",
    "\\begin{equation}\n",
    "m(x) = E[f(x)]\n",
    "\\end{equation}\n",
    "\\begin{equation}\n",
    "k(x,x') = E[f(x)-m(x))(f(x')-m(x'))]\n",
    "\\end{equation}\n",
    "Then we can define GP can as:\n",
    "\\begin{equation}\n",
    "\\label{eq:gpmain}\n",
    "f(x) \\sim GP(m(x),k(x,x'))\n",
    "\\end{equation}\n",
    "\n",
    "\n",
    "GP can be fully determined by only declaring mean and covariance functions. Mean in most cases is set to value \"0\", because such a setting can be useful, simplifies matters and is not a difficult requirement to fulfill. Of course, there are examples\n",
    "where we would like to change the mean e.g. for better model interpretability or the \n",
    "specification of our prior. Covariance function (also called kernel function) represents\n",
    "a similarity between data points. Note that usually covariance is chosen from\n",
    "the set of already defined functions. The one should at least pick one, which represents\n",
    "prior beliefs of the problem. But in fact, covariance function can be any function, which\n",
    "has the property of generating a positive definite covariance matrix. Anyway, creating \n",
    "and defining new covariance functions, which will simultaneously be correct and have a\n",
    "practical usage, can be really difficult\n",
    "\n",
    "The most basic and common kernel function is Radial Basis Function (RBF), which is defined with the formula:\n",
    "\\begin{equation}\n",
    "\\label{eq:rbf}\n",
    "k\\left(x_{i}, x_{j}\\right)=\\exp \\left(-\\frac{d\\left(x_{i}, x_{j}\\right)^{2}}{2 l^{2}}\\right)\n",
    "\\end{equation}\n",
    "Its main property is that its value is usually only dependent on the distance from the specified point. The parameter which RBF kernel uses is $l$ as a characteristic length scale. RBF is infinitely differentiable. That means the GP with this kernel has a mean square derivatives for all orders. Other worth noting kernel, in terms of our classess is one from exponentiated quadratic family, where $\\rho$ is length-scale and $\\alpha$ is marginal deviation:\n",
    "$$\n",
    "k\\left(x_{1}, x_{2}\\right)=\\alpha^{2} \\exp \\left(-\\frac{1}{2}\\left(\\frac{\\left|x_{1}-x_{2}\\right|}{\\rho}\\right)^{2}\\right)\n",
    "$$\n",
    "Gaussian Process is growing in popularity of usage in domains connected with statistics and machine learning. It is especially efficient solution, while we are dealing with a problem of obtaining data e.g. for faulty cases or just an overall lack of comprehensive data and if we want to obtain not only prediction but also confidence interval. Main areas where GP is used for are: regression, prediction, classification and identification. On this classes we will focuse on a simple task of regression."
   ]
  },
  {
   "cell_type": "code",
   "execution_count": 13,
   "id": "83d56231",
   "metadata": {},
   "outputs": [],
   "source": [
    "from cmdstanpy import CmdStanModel\n",
    "\n",
    "import arviz as az\n",
    "import numpy as np\n",
    "import scipy.stats as stats\n",
    "\n",
    "import matplotlib.pyplot as plt\n",
    "import pandas as pd"
   ]
  },
  {
   "cell_type": "markdown",
   "id": "8c5df2c0",
   "metadata": {},
   "source": [
    "### Task 1: simulating from Gaussian Process model"
   ]
  },
  {
   "cell_type": "markdown",
   "id": "1542b3b0",
   "metadata": {},
   "source": [
    "To make any simulations, first you need a set of observations:"
   ]
  },
  {
   "cell_type": "code",
   "execution_count": 4,
   "id": "87dc0f41",
   "metadata": {},
   "outputs": [],
   "source": [
    "#Observed data\n",
    "x_obs = [-10, -8, -6, -4, -2, 0, 2, 4, 6, 8, 10]\n",
    "y_obs = [0.328572824089476, 4.20607004111644, 1.35507551134795,\n",
    "0.161608755204364, -5.42320349780782, -3.05851276224202, -0.0764172642034502,\n",
    "-4.55218472276499, -0.902226297922731, -5.8609833528976, -1.05854090910473]"
   ]
  },
  {
   "cell_type": "markdown",
   "id": "2c488b57",
   "metadata": {},
   "source": [
    "Model also needs sampling space and the indexes of where our observed data resides there. \n",
    "For your convenience, we provide them below:"
   ]
  },
  {
   "cell_type": "code",
   "execution_count": 5,
   "id": "3cc64fea",
   "metadata": {},
   "outputs": [],
   "source": [
    "x_predict = np.linspace(-11,11,551,endpoint=True)\n",
    "observed_idx = [26, 76, 126, 176, 226, 276, 326, 376, 426, 476, 526]"
   ]
  },
  {
   "cell_type": "markdown",
   "id": "3fc7b7ff",
   "metadata": {},
   "source": [
    "In this example we are using kernel from exponentiated quadratic family, so we need to provide its hyperparameters (alpha and rho). Moreover, for sample generation, we would like to set a sigma value. Let's start with some arbitrarily selected parameters:"
   ]
  },
  {
   "cell_type": "code",
   "execution_count": 6,
   "id": "a958c173",
   "metadata": {},
   "outputs": [],
   "source": [
    "alpha = 3\n",
    "rho = 5.5\n",
    "sigma = 2"
   ]
  },
  {
   "cell_type": "markdown",
   "id": "5e110baf",
   "metadata": {},
   "source": [
    "Now we can create a model and sample from it. Do not forget to define proper data value based on requirements from stan model."
   ]
  },
  {
   "cell_type": "code",
   "execution_count": 23,
   "id": "f969aa90",
   "metadata": {},
   "outputs": [
    {
     "name": "stderr",
     "output_type": "stream",
     "text": [
      "INFO:cmdstanpy:found newer exe file, not recompiling\n"
     ]
    }
   ],
   "source": [
    "model = CmdStanModel(stan_file='gaussian_process.stan')"
   ]
  },
  {
   "cell_type": "code",
   "execution_count": 29,
   "id": "69ce7ae5",
   "metadata": {},
   "outputs": [
    {
     "name": "stderr",
     "output_type": "stream",
     "text": [
      "INFO:cmdstanpy:CmdStan start processing\n",
      "chain 1 |\u001b[33m          \u001b[0m| 00:00 Status\n",
      "\u001b[A\n",
      "\n",
      "chain 1 |\u001b[33m▍         \u001b[0m| 00:00 Status\n",
      "\u001b[A\n",
      "\n",
      "chain 1 |\u001b[33m▉         \u001b[0m| 00:02 Iteration:    1 / 2000 [  0%]  (Warmup)\n",
      "\n",
      "\u001b[A\u001b[A\n",
      "chain 1 |\u001b[33m█▎        \u001b[0m| 00:04 Iteration:  100 / 2000 [  5%]  (Warmup)\n",
      "\n",
      "\u001b[A\u001b[A\n",
      "\u001b[A\n",
      "\n",
      "chain 1 |\u001b[33m█▊        \u001b[0m| 00:07 Iteration:  200 / 2000 [ 10%]  (Warmup)\n",
      "\u001b[A\n",
      "\n",
      "chain 1 |\u001b[33m██▎       \u001b[0m| 00:09 Iteration:  300 / 2000 [ 15%]  (Warmup)\n",
      "\u001b[A\n",
      "\n",
      "chain 1 |\u001b[33m██▋       \u001b[0m| 00:11 Iteration:  400 / 2000 [ 20%]  (Warmup)\n",
      "\u001b[A\n",
      "\n",
      "chain 1 |\u001b[33m███▏      \u001b[0m| 00:13 Iteration:  500 / 2000 [ 25%]  (Warmup)\n",
      "\u001b[A\n",
      "\n",
      "chain 1 |\u001b[33m███▋      \u001b[0m| 00:15 Iteration:  600 / 2000 [ 30%]  (Warmup)\n",
      "\u001b[A\n",
      "\n",
      "chain 1 |\u001b[33m████      \u001b[0m| 00:16 Iteration:  700 / 2000 [ 35%]  (Warmup)\n",
      "\u001b[A\n",
      "\n",
      "chain 1 |\u001b[33m████▌     \u001b[0m| 00:17 Iteration:  800 / 2000 [ 40%]  (Warmup)\n",
      "\u001b[A\n",
      "\n",
      "chain 1 |\u001b[33m█████     \u001b[0m| 00:19 Iteration:  900 / 2000 [ 45%]  (Warmup)\n",
      "\u001b[A\n",
      "\n",
      "chain 1 |\u001b[34m█████▉    \u001b[0m| 00:21 Iteration: 1001 / 2000 [ 50%]  (Sampling)\n",
      "\u001b[A\n",
      "\n",
      "chain 1 |\u001b[34m██████▎   \u001b[0m| 00:22 Iteration: 1100 / 2000 [ 55%]  (Sampling)\n",
      "chain 1 |\u001b[34m██████▊   \u001b[0m| 00:24 Iteration: 1200 / 2000 [ 60%]  (Sampling)\n",
      "\n",
      "\u001b[A\u001b[A\n",
      "chain 1 |\u001b[34m███████▎  \u001b[0m| 00:26 Iteration: 1300 / 2000 [ 65%]  (Sampling)\n",
      "\n",
      "\u001b[A\u001b[A\n",
      "chain 1 |\u001b[34m███████▋  \u001b[0m| 00:28 Iteration: 1400 / 2000 [ 70%]  (Sampling)\n",
      "\n",
      "\u001b[A\u001b[A\n",
      "chain 1 |\u001b[34m████████▏ \u001b[0m| 00:30 Iteration: 1500 / 2000 [ 75%]  (Sampling)\n",
      "\n",
      "\u001b[A\u001b[A\n",
      "chain 1 |\u001b[34m████████▋ \u001b[0m| 00:32 Iteration: 1600 / 2000 [ 80%]  (Sampling)\n",
      "\n",
      "\u001b[A\u001b[A\n",
      "chain 1 |\u001b[34m█████████ \u001b[0m| 00:34 Iteration: 1700 / 2000 [ 85%]  (Sampling)\n",
      "\n",
      "\u001b[A\u001b[A\n",
      "chain 1 |\u001b[34m█████████▌\u001b[0m| 00:36 Iteration: 1800 / 2000 [ 90%]  (Sampling)\n",
      "\n",
      "\u001b[A\u001b[A\n",
      "chain 1 |\u001b[34m██████████\u001b[0m| 00:38 Iteration: 1900 / 2000 [ 95%]  (Sampling)\n",
      "\n",
      "\u001b[A\u001b[A\n",
      "chain 1 |\u001b[34m██████████\u001b[0m| 00:38 Sampling completed                       \n",
      "chain 2 |\u001b[34m██████████\u001b[0m| 00:38 Sampling completed                       \n",
      "chain 3 |\u001b[34m██████████\u001b[0m| 00:38 Sampling completed                       \n",
      "chain 4 |\u001b[34m██████████\u001b[0m| 00:38 Sampling completed                       "
     ]
    },
    {
     "name": "stdout",
     "output_type": "stream",
     "text": [
      "                                                                                                                                                                                                                                                                                                                                "
     ]
    },
    {
     "name": "stderr",
     "output_type": "stream",
     "text": [
      "\n",
      "INFO:cmdstanpy:CmdStan done processing.\n"
     ]
    },
    {
     "name": "stdout",
     "output_type": "stream",
     "text": [
      "\n"
     ]
    }
   ],
   "source": [
    "data = {\n",
    "    'N_predict': len(x_predict),\n",
    "    'x_predict': x_predict,\n",
    "    'N_obs': len(observed_idx),\n",
    "    'y_obs': y_obs,\n",
    "    'observed_idx': observed_idx,\n",
    "    'rho': rho,\n",
    "    'alpha': alpha,\n",
    "    'sigma': sigma\n",
    "}\n",
    "result = model.sample(data=data, chains = 4)"
   ]
  },
  {
   "cell_type": "markdown",
   "id": "852a2439",
   "metadata": {},
   "source": [
    "Your task now is to:\n",
    "- plot few (about 5-10) samples generated from model\n",
    "- plot mean value from model with its confidence interval (standar deviation, using errorbar function)\n",
    "\n",
    "Also on each plot place points with obsserved data. Repeat the steps for two other parameters sets of your choice"
   ]
  },
  {
   "cell_type": "markdown",
   "id": "612ecb18",
   "metadata": {},
   "source": [
    "### Task 2: optimize hyperparameters"
   ]
  },
  {
   "cell_type": "markdown",
   "id": "b6cf4f85",
   "metadata": {},
   "source": [
    "To achive better results of GP fitting for our observed data, we need to oprimize its parameters. We can do that by using maximum marginal likelihood estimation. It can be done by placing parameters in \"parameter\" block in stan model and using \"optimize\" method."
   ]
  },
  {
   "cell_type": "code",
   "execution_count": 24,
   "id": "67c710bb",
   "metadata": {},
   "outputs": [
    {
     "name": "stderr",
     "output_type": "stream",
     "text": [
      "INFO:cmdstanpy:found newer exe file, not recompiling\n"
     ]
    }
   ],
   "source": [
    "model2 = CmdStanModel(stan_file='gaussian_process_optimize.stan')"
   ]
  },
  {
   "cell_type": "code",
   "execution_count": 27,
   "id": "b212b612",
   "metadata": {},
   "outputs": [
    {
     "name": "stderr",
     "output_type": "stream",
     "text": [
      "INFO:cmdstanpy:CmdStan start processing\n",
      "chain 1 |\u001b[33m          \u001b[0m| 00:00 Status\n",
      "\u001b[A\n",
      "\n",
      "\u001b[A\u001b[AERROR:cmdstanpy:Chain [1] error: error during processing Operation not permitted\n",
      "ERROR:cmdstanpy:Chain [2] error: error during processing Operation not permitted\n",
      "ERROR:cmdstanpy:Chain [3] error: error during processing Operation not permitted\n",
      "ERROR:cmdstanpy:Chain [4] error: error during processing Operation not permitted\n",
      "chain 1 |\u001b[33m██████████\u001b[0m| 00:00 Sampling completed\n",
      "chain 2 |\u001b[33m██████████\u001b[0m| 00:00 Sampling completed\n",
      "\n",
      "chain 3 |\u001b[33m██████████\u001b[0m| 00:00 Sampling completed\n",
      "\n",
      "\n",
      "chain 4 |\u001b[33m██████████\u001b[0m| 00:00 Sampling completed"
     ]
    },
    {
     "name": "stdout",
     "output_type": "stream",
     "text": [
      "                                                                                                                                                                "
     ]
    },
    {
     "name": "stderr",
     "output_type": "stream",
     "text": [
      "\n"
     ]
    },
    {
     "name": "stdout",
     "output_type": "stream",
     "text": [
      "                                                                                                                                                                "
     ]
    },
    {
     "name": "stderr",
     "output_type": "stream",
     "text": [
      "INFO:cmdstanpy:CmdStan done processing.\n"
     ]
    },
    {
     "name": "stdout",
     "output_type": "stream",
     "text": [
      "\n"
     ]
    },
    {
     "ename": "RuntimeError",
     "evalue": "Error during sampling:\nException: variable does not exist; processing stage=data initialization; variable name=x_obs; base type=double (in 'C:/Users/AGNIES~1/Desktop/SEM8~1/DATAAN~1/DataA/DATA-A~1/Lab6/gaussian_process_optimize.stan', line 3, column 3 to column 21)\nException: variable does not exist; processing stage=data initialization; variable name=x_obs; base type=double (in 'C:/Users/AGNIES~1/Desktop/SEM8~1/DATAAN~1/DataA/DATA-A~1/Lab6/gaussian_process_optimize.stan', line 3, column 3 to column 21)\nException: variable does not exist; processing stage=data initialization; variable name=x_obs; base type=double (in 'C:/Users/AGNIES~1/Desktop/SEM8~1/DATAAN~1/DataA/DATA-A~1/Lab6/gaussian_process_optimize.stan', line 3, column 3 to column 21)\nException: variable does not exist; processing stage=data initialization; variable name=x_obs; base type=double (in 'C:/Users/AGNIES~1/Desktop/SEM8~1/DATAAN~1/DataA/DATA-A~1/Lab6/gaussian_process_optimize.stan', line 3, column 3 to column 21)Command and output files:\nRunSet: chains=4, chain_ids=[1, 2, 3, 4], num_processes=4\n cmd (chain 1):\n\t['C:\\\\Users\\\\Agnieszka\\\\Desktop\\\\Sem 8\\\\Data Analytics\\\\DataA\\\\Data-Analytics\\\\Lab6\\\\gaussian_process_optimize.exe', 'id=1', 'random', 'seed=40064', 'data', 'file=C:\\\\Users\\\\AGNIES~1\\\\AppData\\\\Local\\\\Temp\\\\tmpi1r5k6bz\\\\g1sv50uf.json', 'output', 'file=C:\\\\Users\\\\AGNIES~1\\\\AppData\\\\Local\\\\Temp\\\\tmpi1r5k6bz\\\\gaussian_process_optimize-20220412114655_1.csv', 'method=sample', 'algorithm=hmc', 'adapt', 'engaged=1']\n retcodes=[1, 1, 1, 1]\n per-chain output files (showing chain 1 only):\n csv_file:\n\tC:\\Users\\AGNIES~1\\AppData\\Local\\Temp\\tmpi1r5k6bz\\gaussian_process_optimize-20220412114655_1.csv\n console_msgs (if any):\n\tC:\\Users\\AGNIES~1\\AppData\\Local\\Temp\\tmpi1r5k6bz\\gaussian_process_optimize-20220412114655_0-stdout.txt",
     "output_type": "error",
     "traceback": [
      "\u001b[1;31m---------------------------------------------------------------------------\u001b[0m",
      "\u001b[1;31mRuntimeError\u001b[0m                              Traceback (most recent call last)",
      "\u001b[1;32mc:\\Users\\Agnieszka\\Desktop\\Sem 8\\Data Analytics\\DataA\\Data-Analytics\\Lab6\\Agnieszka_Welian_lab6.ipynb Cell 18'\u001b[0m in \u001b[0;36m<cell line: 4>\u001b[1;34m()\u001b[0m\n\u001b[0;32m      <a href='vscode-notebook-cell:/c%3A/Users/Agnieszka/Desktop/Sem%208/Data%20Analytics/DataA/Data-Analytics/Lab6/Agnieszka_Welian_lab6.ipynb#ch0000016?line=0'>1</a>\u001b[0m data2 \u001b[39m=\u001b[39m {\n\u001b[0;32m      <a href='vscode-notebook-cell:/c%3A/Users/Agnieszka/Desktop/Sem%208/Data%20Analytics/DataA/Data-Analytics/Lab6/Agnieszka_Welian_lab6.ipynb#ch0000016?line=1'>2</a>\u001b[0m     \u001b[39m'\u001b[39m\u001b[39mN_obs\u001b[39m\u001b[39m'\u001b[39m:\u001b[39m100\u001b[39m,\n\u001b[0;32m      <a href='vscode-notebook-cell:/c%3A/Users/Agnieszka/Desktop/Sem%208/Data%20Analytics/DataA/Data-Analytics/Lab6/Agnieszka_Welian_lab6.ipynb#ch0000016?line=2'>3</a>\u001b[0m }\n\u001b[1;32m----> <a href='vscode-notebook-cell:/c%3A/Users/Agnieszka/Desktop/Sem%208/Data%20Analytics/DataA/Data-Analytics/Lab6/Agnieszka_Welian_lab6.ipynb#ch0000016?line=3'>4</a>\u001b[0m sample \u001b[39m=\u001b[39m model2\u001b[39m.\u001b[39;49msample(data2)\n\u001b[0;32m      <a href='vscode-notebook-cell:/c%3A/Users/Agnieszka/Desktop/Sem%208/Data%20Analytics/DataA/Data-Analytics/Lab6/Agnieszka_Welian_lab6.ipynb#ch0000016?line=4'>5</a>\u001b[0m result2 \u001b[39m=\u001b[39m model2\u001b[39m.\u001b[39moptimize(data\u001b[39m=\u001b[39mdata2, seed\u001b[39m=\u001b[39m\u001b[39m5838298\u001b[39m)\n",
      "File \u001b[1;32m~\\anaconda3\\envs\\data-anatylics\\lib\\site-packages\\cmdstanpy\\model.py:1089\u001b[0m, in \u001b[0;36mCmdStanModel.sample\u001b[1;34m(self, data, chains, parallel_chains, threads_per_chain, seed, chain_ids, inits, iter_warmup, iter_sampling, save_warmup, thin, max_treedepth, metric, step_size, adapt_engaged, adapt_delta, adapt_init_phase, adapt_metric_window, adapt_step_size, fixed_param, output_dir, sig_figs, save_latent_dynamics, save_profile, show_progress, show_console, refresh, time_fmt, force_one_process_per_chain)\u001b[0m\n\u001b[0;32m   <a href='file:///c%3A/Users/Agnieszka/anaconda3/envs/data-anatylics/lib/site-packages/cmdstanpy/model.py?line=1084'>1085</a>\u001b[0m         msg \u001b[39m=\u001b[39m \u001b[39m'\u001b[39m\u001b[39mError during sampling:\u001b[39m\u001b[39m\\n\u001b[39;00m\u001b[39m{}\u001b[39;00m\u001b[39m'\u001b[39m\u001b[39m.\u001b[39mformat(runset\u001b[39m.\u001b[39mget_err_msgs())\n\u001b[0;32m   <a href='file:///c%3A/Users/Agnieszka/anaconda3/envs/data-anatylics/lib/site-packages/cmdstanpy/model.py?line=1085'>1086</a>\u001b[0m         msg \u001b[39m=\u001b[39m \u001b[39m'\u001b[39m\u001b[39m{}\u001b[39;00m\u001b[39mCommand and output files:\u001b[39m\u001b[39m\\n\u001b[39;00m\u001b[39m{}\u001b[39;00m\u001b[39m'\u001b[39m\u001b[39m.\u001b[39mformat(\n\u001b[0;32m   <a href='file:///c%3A/Users/Agnieszka/anaconda3/envs/data-anatylics/lib/site-packages/cmdstanpy/model.py?line=1086'>1087</a>\u001b[0m             msg, runset\u001b[39m.\u001b[39m\u001b[39m__repr__\u001b[39m()\n\u001b[0;32m   <a href='file:///c%3A/Users/Agnieszka/anaconda3/envs/data-anatylics/lib/site-packages/cmdstanpy/model.py?line=1087'>1088</a>\u001b[0m         )\n\u001b[1;32m-> <a href='file:///c%3A/Users/Agnieszka/anaconda3/envs/data-anatylics/lib/site-packages/cmdstanpy/model.py?line=1088'>1089</a>\u001b[0m         \u001b[39mraise\u001b[39;00m \u001b[39mRuntimeError\u001b[39;00m(msg)\n\u001b[0;32m   <a href='file:///c%3A/Users/Agnieszka/anaconda3/envs/data-anatylics/lib/site-packages/cmdstanpy/model.py?line=1090'>1091</a>\u001b[0m     mcmc \u001b[39m=\u001b[39m CmdStanMCMC(runset)\n\u001b[0;32m   <a href='file:///c%3A/Users/Agnieszka/anaconda3/envs/data-anatylics/lib/site-packages/cmdstanpy/model.py?line=1091'>1092</a>\u001b[0m \u001b[39mreturn\u001b[39;00m mcmc\n",
      "\u001b[1;31mRuntimeError\u001b[0m: Error during sampling:\nException: variable does not exist; processing stage=data initialization; variable name=x_obs; base type=double (in 'C:/Users/AGNIES~1/Desktop/SEM8~1/DATAAN~1/DataA/DATA-A~1/Lab6/gaussian_process_optimize.stan', line 3, column 3 to column 21)\nException: variable does not exist; processing stage=data initialization; variable name=x_obs; base type=double (in 'C:/Users/AGNIES~1/Desktop/SEM8~1/DATAAN~1/DataA/DATA-A~1/Lab6/gaussian_process_optimize.stan', line 3, column 3 to column 21)\nException: variable does not exist; processing stage=data initialization; variable name=x_obs; base type=double (in 'C:/Users/AGNIES~1/Desktop/SEM8~1/DATAAN~1/DataA/DATA-A~1/Lab6/gaussian_process_optimize.stan', line 3, column 3 to column 21)\nException: variable does not exist; processing stage=data initialization; variable name=x_obs; base type=double (in 'C:/Users/AGNIES~1/Desktop/SEM8~1/DATAAN~1/DataA/DATA-A~1/Lab6/gaussian_process_optimize.stan', line 3, column 3 to column 21)Command and output files:\nRunSet: chains=4, chain_ids=[1, 2, 3, 4], num_processes=4\n cmd (chain 1):\n\t['C:\\\\Users\\\\Agnieszka\\\\Desktop\\\\Sem 8\\\\Data Analytics\\\\DataA\\\\Data-Analytics\\\\Lab6\\\\gaussian_process_optimize.exe', 'id=1', 'random', 'seed=40064', 'data', 'file=C:\\\\Users\\\\AGNIES~1\\\\AppData\\\\Local\\\\Temp\\\\tmpi1r5k6bz\\\\g1sv50uf.json', 'output', 'file=C:\\\\Users\\\\AGNIES~1\\\\AppData\\\\Local\\\\Temp\\\\tmpi1r5k6bz\\\\gaussian_process_optimize-20220412114655_1.csv', 'method=sample', 'algorithm=hmc', 'adapt', 'engaged=1']\n retcodes=[1, 1, 1, 1]\n per-chain output files (showing chain 1 only):\n csv_file:\n\tC:\\Users\\AGNIES~1\\AppData\\Local\\Temp\\tmpi1r5k6bz\\gaussian_process_optimize-20220412114655_1.csv\n console_msgs (if any):\n\tC:\\Users\\AGNIES~1\\AppData\\Local\\Temp\\tmpi1r5k6bz\\gaussian_process_optimize-20220412114655_0-stdout.txt"
     ]
    }
   ],
   "source": [
    "data2 = {\n",
    "    'N_obs':100,\n",
    "}\n",
    "sample = model2.sample(data2)\n",
    "result2 = model2.optimize(data=data2, seed=5838298)"
   ]
  },
  {
   "cell_type": "markdown",
   "id": "694aedb2",
   "metadata": {},
   "source": [
    "Optimize parameters with mentioned method and generate new samples with model from task 1. Of course use just aquired parameters. Do not forget to specify data variable based on stan model. \n",
    "What can your say about results in comparison to ones from task 1?\n",
    "Did the GP perform well in the task of regression? "
   ]
  },
  {
   "cell_type": "code",
   "execution_count": null,
   "id": "87d53a6a",
   "metadata": {},
   "outputs": [],
   "source": []
  }
 ],
 "metadata": {
  "kernelspec": {
   "display_name": "Python 3 (ipykernel)",
   "language": "python",
   "name": "python3"
  },
  "language_info": {
   "codemirror_mode": {
    "name": "ipython",
    "version": 3
   },
   "file_extension": ".py",
   "mimetype": "text/x-python",
   "name": "python",
   "nbconvert_exporter": "python",
   "pygments_lexer": "ipython3",
   "version": "3.9.10"
  }
 },
 "nbformat": 4,
 "nbformat_minor": 5
}
