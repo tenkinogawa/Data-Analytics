{
 "cells": [
  {
   "cell_type": "markdown",
   "id": "90454e95",
   "metadata": {},
   "source": [
    "# Lab 6 - Gaussian Process"
   ]
  },
  {
   "cell_type": "markdown",
   "id": "eb2010f5",
   "metadata": {},
   "source": [
    "In general, Gaussian Process (GP) is a stochastic process used for modeling data, which were observed over time, space or both. Main thing that can characterise GP is that is a kind of generalization of normal probability distributions, where each of them describes a random variable (scalar or vector if we deal with multivariate distribution).\n",
    "\n",
    "Following definition captures the essence of Gaussian Process: \n",
    "\n",
    "A Gaussian process is a collection of random variables, any Gaussian process finite number of which have a joint Gaussian distribution.\n",
    "\n",
    "\n",
    "If we define mean function $m(x)$ and the covariance function mean function $k(x,x')$ of a real process $f(x)$ as:\n",
    "\\begin{equation}\n",
    "m(x) = E[f(x)]\n",
    "\\end{equation}\n",
    "\\begin{equation}\n",
    "k(x,x') = E[f(x)-m(x))(f(x')-m(x'))]\n",
    "\\end{equation}\n",
    "Then we can define GP can as:\n",
    "\\begin{equation}\n",
    "\\label{eq:gpmain}\n",
    "f(x) \\sim GP(m(x),k(x,x'))\n",
    "\\end{equation}\n",
    "\n",
    "\n",
    "GP can be fully determined by only declaring mean and covariance functions. Mean in most cases is set to value \"0\", because such a setting can be useful, simplifies matters and is not a difficult requirement to fulfill. Of course, there are examples\n",
    "where we would like to change the mean e.g. for better model interpretability or the \n",
    "specification of our prior. Covariance function (also called kernel function) represents\n",
    "a similarity between data points. Note that usually covariance is chosen from\n",
    "the set of already defined functions. The one should at least pick one, which represents\n",
    "prior beliefs of the problem. But in fact, covariance function can be any function, which\n",
    "has the property of generating a positive definite covariance matrix. Anyway, creating \n",
    "and defining new covariance functions, which will simultaneously be correct and have a\n",
    "practical usage, can be really difficult\n",
    "\n",
    "The most basic and common kernel function is Radial Basis Function (RBF), which is defined with the formula:\n",
    "\\begin{equation}\n",
    "\\label{eq:rbf}\n",
    "k\\left(x_{i}, x_{j}\\right)=\\exp \\left(-\\frac{d\\left(x_{i}, x_{j}\\right)^{2}}{2 l^{2}}\\right)\n",
    "\\end{equation}\n",
    "Its main property is that its value is usually only dependent on the distance from the specified point. The parameter which RBF kernel uses is $l$ as a characteristic length scale. RBF is infinitely differentiable. That means the GP with this kernel has a mean square derivatives for all orders. Other worth noting kernel, in terms of our classess is one from exponentiated quadratic family, where $\\rho$ is length-scale and $\\alpha$ is marginal deviation:\n",
    "$$\n",
    "k\\left(x_{1}, x_{2}\\right)=\\alpha^{2} \\exp \\left(-\\frac{1}{2}\\left(\\frac{\\left|x_{1}-x_{2}\\right|}{\\rho}\\right)^{2}\\right)\n",
    "$$\n",
    "Gaussian Process is growing in popularity of usage in domains connected with statistics and machine learning. It is especially efficient solution, while we are dealing with a problem of obtaining data e.g. for faulty cases or just an overall lack of comprehensive data and if we want to obtain not only prediction but also confidence interval. Main areas where GP is used for are: regression, prediction, classification and identification. On this classes we will focuse on a simple task of regression."
   ]
  },
  {
   "cell_type": "markdown",
   "id": "8c5df2c0",
   "metadata": {},
   "source": [
    "### Task 1: simulating from Gaussian Process model"
   ]
  },
  {
   "cell_type": "markdown",
   "id": "1542b3b0",
   "metadata": {},
   "source": [
    "To make any simulations, first you need a set of observations:"
   ]
  },
  {
   "cell_type": "code",
   "execution_count": null,
   "id": "87dc0f41",
   "metadata": {},
   "outputs": [],
   "source": [
    "#Observed data\n",
    "x_obs = [-10, -8, -6, -4, -2, 0, 2, 4, 6, 8, 10]\n",
    "y_obs = [0.328572824089476, 4.20607004111644, 1.35507551134795,\n",
    "0.161608755204364, -5.42320349780782, -3.05851276224202, -0.0764172642034502,\n",
    "-4.55218472276499, -0.902226297922731, -5.8609833528976, -1.05854090910473]"
   ]
  },
  {
   "cell_type": "markdown",
   "id": "2c488b57",
   "metadata": {},
   "source": [
    "Model also needs sampling space and the indexes of where our observed data resides there. \n",
    "For your convenience, we provide them below:"
   ]
  },
  {
   "cell_type": "code",
   "execution_count": null,
   "id": "3cc64fea",
   "metadata": {},
   "outputs": [],
   "source": [
    "x_predict = np.linspace(-11,11,551,endpoint=True)\n",
    "observed_idx = [26, 76, 126, 176, 226, 276, 326, 376, 426, 476, 526]"
   ]
  },
  {
   "cell_type": "markdown",
   "id": "3fc7b7ff",
   "metadata": {},
   "source": [
    "In this example we are using kernel from exponentiated quadratic family, so we need to provide its hyperparameters (alpha and rho). Moreover, for sample generation, we would like to set a sigma value. Let's start with some arbitrarily selected parameters:"
   ]
  },
  {
   "cell_type": "code",
   "execution_count": null,
   "id": "a958c173",
   "metadata": {},
   "outputs": [],
   "source": [
    "alpha = 3\n",
    "rho = 5.5\n",
    "sigma = 2"
   ]
  },
  {
   "cell_type": "markdown",
   "id": "5e110baf",
   "metadata": {},
   "source": [
    "Now we can create a model and sample from it. Do not forget to define proper data value based on requirements from stan model."
   ]
  },
  {
   "cell_type": "code",
   "execution_count": null,
   "id": "f969aa90",
   "metadata": {},
   "outputs": [],
   "source": [
    "model = CmdStanModel(stan_file='gaussian_process.stan')"
   ]
  },
  {
   "cell_type": "code",
   "execution_count": null,
   "id": "69ce7ae5",
   "metadata": {},
   "outputs": [],
   "source": [
    "result = model.sample(data=data, chains = 4)"
   ]
  },
  {
   "cell_type": "markdown",
   "id": "852a2439",
   "metadata": {},
   "source": [
    "Your task now is to:\n",
    "- plot few (about 5-10) samples generated from model\n",
    "- plot mean value from model with its confidence interval (standar deviation, using errorbar function)\n",
    "\n",
    "Also on each plot place points with obsserved data. Repeat the steps for two other parameters sets of your choice"
   ]
  },
  {
   "cell_type": "markdown",
   "id": "612ecb18",
   "metadata": {},
   "source": [
    "### Task 2: optimize hyperparameters"
   ]
  },
  {
   "cell_type": "markdown",
   "id": "b6cf4f85",
   "metadata": {},
   "source": [
    "To achive better results of GP fitting for our observed data, we need to oprimize its parameters. We can do that by using maximum marginal likelihood estimation. It can be done by placing parameters in \"parameter\" block in stan model and using \"optimize\" method."
   ]
  },
  {
   "cell_type": "code",
   "execution_count": null,
   "id": "67c710bb",
   "metadata": {},
   "outputs": [],
   "source": [
    "model2 = CmdStanModel(stan_file='gaussian_process_optimize.stan')"
   ]
  },
  {
   "cell_type": "code",
   "execution_count": null,
   "id": "b212b612",
   "metadata": {},
   "outputs": [],
   "source": [
    "result2 = model2.optimize(data=data, seed=5838298)"
   ]
  },
  {
   "cell_type": "markdown",
   "id": "694aedb2",
   "metadata": {},
   "source": [
    "Optimize parameters with mentioned method and generate new samples with model from task 1. Of course use just aquired parameters. Do not forget to specify data variable based on stan model. \n",
    "What can your say about results in comparison to ones from task 1?\n",
    "Did the GP perform well in the task of regression? "
   ]
  },
  {
   "cell_type": "code",
   "execution_count": null,
   "id": "87d53a6a",
   "metadata": {},
   "outputs": [],
   "source": []
  }
 ],
 "metadata": {
  "kernelspec": {
   "display_name": "Python 3 (ipykernel)",
   "language": "python",
   "name": "python3"
  },
  "language_info": {
   "codemirror_mode": {
    "name": "ipython",
    "version": 3
   },
   "file_extension": ".py",
   "mimetype": "text/x-python",
   "name": "python",
   "nbconvert_exporter": "python",
   "pygments_lexer": "ipython3",
   "version": "3.9.7"
  }
 },
 "nbformat": 4,
 "nbformat_minor": 5
}
