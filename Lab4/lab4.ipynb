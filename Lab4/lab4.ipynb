{
 "cells": [
  {
   "cell_type": "markdown",
   "metadata": {},
   "source": [
    "# Lab 4 - Linear models\n",
    "\n",
    "We focus on models in the form \n",
    "\n",
    "$$ y ~ \\mathrm{Normal}(\\alpha+X\\beta,\\sigma) $$\n",
    "\n",
    "or in generalized form (generalized linear models)\n",
    "\n",
    "$$ f(y) ~ \\mathrm{Normal}(\\alpha+X\\beta,\\sigma) $$\n",
    "\n",
    "where $f(y)$ is a link function, for example - logit.\n"
   ]
  },
  {
   "cell_type": "code",
   "execution_count": null,
   "metadata": {},
   "outputs": [],
   "source": [
    "from cmdstanpy import CmdStanModel\n",
    "\n",
    "\n",
    "import arviz as az\n",
    "import numpy as np\n",
    "import scipy.stats as stats\n",
    "\n",
    "import matplotlib.pyplot as plt\n",
    "import pandas as pd"
   ]
  },
  {
   "cell_type": "markdown",
   "metadata": {},
   "source": [
    "## Excercise 1 - modelling height of !Kung people"
   ]
  },
  {
   "cell_type": "markdown",
   "metadata": {},
   "source": [
    "### Normal model - no predictors\n",
    "We will try to fit $\\mathrm{Normal}(\\mu,\\sigma)$ distribution to height data. Special case of linear model with $\\beta=0$."
   ]
  },
  {
   "cell_type": "code",
   "execution_count": null,
   "metadata": {},
   "outputs": [],
   "source": [
    "_BASE_URL = \"https://raw.githubusercontent.com/rmcelreath/rethinking/Experimental/data\"\n",
    "HOWELL_DATASET_PATH = f\"{_BASE_URL}/Howell1.csv\"\n",
    "d = pd.read_csv(HOWELL_DATASET_PATH, sep=';', header=0)\n",
    "d=d[d.age>=18] #just adults \n",
    "d.head()"
   ]
  },
  {
   "cell_type": "code",
   "execution_count": null,
   "metadata": {},
   "outputs": [],
   "source": [
    "model_ppc=CmdStanModel(stan_file='height_1_ppc.stan')\n",
    "\n",
    "R = 1000\n",
    "sim=model_ppc.sample(iter_sampling=R,\n",
    "                     iter_warmup=0,\n",
    "                     chains=1,\n",
    "                     fixed_param=True,\n",
    "                     seed=29042020,refresh=R)"
   ]
  },
  {
   "cell_type": "markdown",
   "metadata": {},
   "source": [
    "#### Task 1. Prior predictive checks\n",
    "\n",
    "1. Plot histograms of mu, sigma and simulated height.\n",
    "2. Plot a joint distribution of mu and sigma.\n",
    "3. Check if samples are consistent with priors\n",
    "4. Check if observed data is possible to obtain using priors."
   ]
  },
  {
   "cell_type": "code",
   "execution_count": null,
   "metadata": {},
   "outputs": [],
   "source": [
    "model_1_fit=CmdStanModel(stan_file='height_1_fit.stan')"
   ]
  },
  {
   "cell_type": "code",
   "execution_count": null,
   "metadata": {},
   "outputs": [],
   "source": [
    "fit=model_1_fit.sample(data=dict(N=len(d),\n",
    "                                   heights=d.height.values),\n",
    "                         seed=28052020)"
   ]
  },
  {
   "cell_type": "markdown",
   "metadata": {},
   "source": [
    "#### Task 2. Model fit and evaluation\n",
    "\n",
    "1. Plot a joint distribution of fitted mu and sigma.\n",
    "2. Plot histograms of data and simulated heights and evaluate the quality of model.\n",
    "\n"
   ]
  },
  {
   "cell_type": "markdown",
   "metadata": {},
   "source": [
    "### Adding predictor to the model - weight\n",
    "\n",
    "Create column ```c_weight``` in the dataframe containing weights substrated by their mean.\n"
   ]
  },
  {
   "cell_type": "code",
   "execution_count": null,
   "metadata": {},
   "outputs": [],
   "source": [
    "model_ppc=CmdStanModel(stan_file='height_2a_ppc.stan')\n",
    "R = 1000\n",
    "data_sim={'N':50, 'weight':np.linspace(d.c_weight.min(),d.c_weight.max())}\n",
    "sim=model_ppc.sample(data=data_sim, \n",
    "                     iter_sampling=R, \n",
    "                     iter_warmup=0, \n",
    "                     chains=1, \n",
    "                     refresh=R,\n",
    "                     fixed_param=True,\n",
    "                     seed=29042020)"
   ]
  },
  {
   "cell_type": "markdown",
   "metadata": {},
   "source": [
    "#### Task 4. Prior predictive checks\n",
    "1. Plot lines for each sampled slope beta and intercept alpha, verify if possible predicted heights are consistent with minimum (0) and maximum (check Wikipedia) heights observed in nature."
   ]
  },
  {
   "cell_type": "markdown",
   "metadata": {},
   "source": [
    "### Modifying prior\n",
    "\n",
    "If prior for beta admits negative values, then it makes no sense. Lets change prior to lognormal distribution.\n"
   ]
  },
  {
   "cell_type": "code",
   "execution_count": null,
   "metadata": {},
   "outputs": [],
   "source": [
    "model_ppc=CmdStanModel(stan_file='height_2b_ppc.stan')"
   ]
  },
  {
   "cell_type": "code",
   "execution_count": null,
   "metadata": {},
   "outputs": [],
   "source": [
    "sim=model_ppc.sample(data=data_sim, \n",
    "                     iter_sampling=R, \n",
    "                     iter_warmup=0, \n",
    "                     chains=1, \n",
    "                     refresh=R,\n",
    "                     fixed_param=True,\n",
    "                     seed=29042020)"
   ]
  },
  {
   "cell_type": "markdown",
   "metadata": {},
   "source": [
    "#### Task 5. Prior predictive checks\n",
    "1. Plot lines for each sampled slope beta and intercept alpha, verify if possible predicted heights are consistent with minimum (0) and maximum (check Wikipedia) heights observed in nature.\n",
    "2. For each simulated weight plot maximum, minimum, and 5, 25, 50, 75, 95 quantiles of simulated weight (all in the same plot). Compare with observed data. Is observed data possible within the prior model?"
   ]
  },
  {
   "cell_type": "markdown",
   "metadata": {},
   "source": [
    "### Fitting data\n"
   ]
  },
  {
   "cell_type": "code",
   "execution_count": null,
   "metadata": {},
   "outputs": [],
   "source": [
    "model_2_fit=CmdStanModel(stan_file='height_2_fit.stan')"
   ]
  },
  {
   "cell_type": "markdown",
   "metadata": {},
   "source": [
    "#### Task 6. Preparing data for fit\n",
    "1. Create ```data_fit``` dictionary containing data from  ```N``` first rows of dataframe"
   ]
  },
  {
   "cell_type": "code",
   "execution_count": null,
   "metadata": {},
   "outputs": [],
   "source": [
    "fit=model_2_fit.sample(data=data_fit,seed=28052020)\n"
   ]
  },
  {
   "cell_type": "markdown",
   "metadata": {},
   "source": [
    "#### Task 7. Evaluating model\n",
    "\n",
    "1. Plot lines for each sampled slope beta and intercept alpha. Verify how uncertainity changes with increasing of sample (N)\n",
    "2. For each simulated weight plot maximum, minimum, and 5, 25, 50, 75, 95 quantiles of simulated weight (all in the same plot). Compare with observed data (N points). Is observed data possible within the posterior model? What changes when N increases.\n"
   ]
  }
 ],
 "metadata": {
  "interpreter": {
   "hash": "dec76d489b07b665fd6e3623e5629f717b1b30c784fea4bb610fb31850689f2f"
  },
  "kernelspec": {
   "display_name": "Python 3 (ipykernel)",
   "language": "python",
   "name": "python3"
  },
  "language_info": {
   "codemirror_mode": {
    "name": "ipython",
    "version": 3
   },
   "file_extension": ".py",
   "mimetype": "text/x-python",
   "name": "python",
   "nbconvert_exporter": "python",
   "pygments_lexer": "ipython3",
   "version": "3.9.10"
  }
 },
 "nbformat": 4,
 "nbformat_minor": 2
}
