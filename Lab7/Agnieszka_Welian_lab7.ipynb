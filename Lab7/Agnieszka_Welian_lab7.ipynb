{
 "cells": [
  {
   "cell_type": "code",
   "execution_count": 1,
   "metadata": {},
   "outputs": [],
   "source": [
    "from cmdstanpy import CmdStanModel\n",
    "\n",
    "import arviz as az\n",
    "import numpy as np\n",
    "import scipy.stats as stats\n",
    "\n",
    "import matplotlib.pyplot as plt\n",
    "import pandas as pd"
   ]
  },
  {
   "cell_type": "code",
   "execution_count": 2,
   "metadata": {},
   "outputs": [],
   "source": [
    "F = len('Agnieszka')\n",
    "L = len('Welian')\n",
    "N = (L+F) * 100\n",
    "\n",
    "stan_data = {\n",
    "    \"N\":N,\n",
    "}"
   ]
  },
  {
   "cell_type": "markdown",
   "metadata": {},
   "source": [
    "## Excercise 1 - generate data"
   ]
  },
  {
   "cell_type": "code",
   "execution_count": 3,
   "metadata": {},
   "outputs": [
    {
     "name": "stderr",
     "output_type": "stream",
     "text": [
      "INFO:cmdstanpy:found newer exe file, not recompiling\n",
      "INFO:cmdstanpy:CmdStan start processing\n",
      "chain 1 |\u001b[34m██████████\u001b[0m| 00:02 Sampling completed                      "
     ]
    },
    {
     "name": "stdout",
     "output_type": "stream",
     "text": [
      "                                                                                "
     ]
    },
    {
     "name": "stderr",
     "output_type": "stream",
     "text": [
      "\n",
      "INFO:cmdstanpy:CmdStan done processing.\n"
     ]
    },
    {
     "name": "stdout",
     "output_type": "stream",
     "text": [
      "\n"
     ]
    },
    {
     "name": "stderr",
     "output_type": "stream",
     "text": [
      "INFO:cmdstanpy:found newer exe file, not recompiling\n",
      "INFO:cmdstanpy:CmdStan start processing\n",
      "chain 1 |\u001b[34m██████████\u001b[0m| 00:10 Sampling completed                      "
     ]
    },
    {
     "name": "stdout",
     "output_type": "stream",
     "text": [
      "                                                                                "
     ]
    },
    {
     "name": "stderr",
     "output_type": "stream",
     "text": [
      "\n",
      "INFO:cmdstanpy:CmdStan done processing.\n"
     ]
    },
    {
     "name": "stdout",
     "output_type": "stream",
     "text": [
      "\n"
     ]
    }
   ],
   "source": [
    "model1 = CmdStanModel(stan_file='code_1.stan')\n",
    "sample1 = model1.sample(stan_data, iter_sampling=1000, iter_warmup=1,  chains =1)\n",
    "\n",
    "model2 = CmdStanModel(stan_file='code_2.stan')\n",
    "sample2 = model2.sample(stan_data, iter_sampling=1000, iter_warmup=1, chains =1)\n"
   ]
  },
  {
   "cell_type": "code",
   "execution_count": 4,
   "metadata": {},
   "outputs": [
    {
     "name": "stdout",
     "output_type": "stream",
     "text": [
      "[-0.442467  1.27316   0.329766 ... -1.27474  -0.334264  0.559197]\n",
      "[-2.73938 -5.28918  5.03734 ... -3.12553  2.24639 -2.88989]\n"
     ]
    },
    {
     "data": {
      "image/png": "[encoded data removed]",
      "text/plain": [
       "<Figure size 432x288 with 1 Axes>"
      ]
     },
     "metadata": {
      "needs_background": "light"
     },
     "output_type": "display_data"
    },
    {
     "data": {
      "image/png": "[encoded data removed]",
      "text/plain": [
       "<Figure size 432x288 with 1 Axes>"
      ]
     },
     "metadata": {
      "needs_background": "light"
     },
     "output_type": "display_data"
    }
   ],
   "source": [
    "y1 = sample1.stan_variable('y')[0]\n",
    "print(y1)\n",
    "y2 = sample2.stan_variable('y')[0]\n",
    "print(y2)\n",
    "\n",
    "data1 = {\n",
    "    'N': N,\n",
    "    'y': y1\n",
    "}\n",
    "\n",
    "data2 = {\n",
    "    'N': N,\n",
    "    'y': y2\n",
    "}\n",
    "\n",
    "plt.hist(y1)\n",
    "plt.show()\n",
    "plt.hist(y2)\n",
    "plt.show()\n"
   ]
  },
  {
   "cell_type": "markdown",
   "metadata": {},
   "source": [
    "## Excercise 2 - compare normal and student models for data from first file"
   ]
  },
  {
   "cell_type": "code",
   "execution_count": 5,
   "metadata": {},
   "outputs": [
    {
     "name": "stderr",
     "output_type": "stream",
     "text": [
      "INFO:cmdstanpy:found newer exe file, not recompiling\n",
      "INFO:cmdstanpy:CmdStan start processing\n",
      "chain 1 |\u001b[34m██████████\u001b[0m| 00:05 Sampling completed                       "
     ]
    },
    {
     "name": "stdout",
     "output_type": "stream",
     "text": [
      "                                                                                "
     ]
    },
    {
     "name": "stderr",
     "output_type": "stream",
     "text": [
      "\n",
      "INFO:cmdstanpy:CmdStan done processing.\n"
     ]
    },
    {
     "name": "stdout",
     "output_type": "stream",
     "text": [
      "\n"
     ]
    },
    {
     "name": "stderr",
     "output_type": "stream",
     "text": [
      "INFO:cmdstanpy:CmdStan start processing\n",
      "chain 1 |\u001b[34m██████████\u001b[0m| 00:04 Sampling completed                       "
     ]
    },
    {
     "name": "stdout",
     "output_type": "stream",
     "text": [
      "                                                                                "
     ]
    },
    {
     "name": "stderr",
     "output_type": "stream",
     "text": [
      "\n",
      "INFO:cmdstanpy:CmdStan done processing.\n"
     ]
    },
    {
     "name": "stdout",
     "output_type": "stream",
     "text": [
      "\n"
     ]
    },
    {
     "name": "stderr",
     "output_type": "stream",
     "text": [
      "INFO:cmdstanpy:found newer exe file, not recompiling\n",
      "INFO:cmdstanpy:CmdStan start processing\n",
      "chain 1 |\u001b[34m██████████\u001b[0m| 00:05 Sampling completed                       "
     ]
    },
    {
     "name": "stdout",
     "output_type": "stream",
     "text": [
      "                                                                                "
     ]
    },
    {
     "name": "stderr",
     "output_type": "stream",
     "text": [
      "\n",
      "INFO:cmdstanpy:CmdStan done processing.\n"
     ]
    },
    {
     "name": "stdout",
     "output_type": "stream",
     "text": [
      "\n"
     ]
    },
    {
     "name": "stderr",
     "output_type": "stream",
     "text": [
      "INFO:cmdstanpy:CmdStan start processing\n",
      "chain 1 |\u001b[34m██████████\u001b[0m| 00:04 Sampling completed                       "
     ]
    },
    {
     "name": "stdout",
     "output_type": "stream",
     "text": [
      "                                                                                "
     ]
    },
    {
     "name": "stderr",
     "output_type": "stream",
     "text": [
      "\n",
      "INFO:cmdstanpy:CmdStan done processing.\n"
     ]
    },
    {
     "name": "stdout",
     "output_type": "stream",
     "text": [
      "\n"
     ]
    }
   ],
   "source": [
    "model3 = CmdStanModel(stan_file='code_3.stan')\n",
    "fit3=model3.sample(data=data1, iter_sampling=1000, iter_warmup=1, chains =1)\n",
    "\n",
    "fit3_2=model3.sample(data=data2, iter_sampling=1000, iter_warmup=1, chains =1)\n",
    "\n",
    "model4 = CmdStanModel(stan_file='code_4.stan')\n",
    "fit4=model4.sample(data=data1, iter_sampling=1000, iter_warmup=1, chains =1)\n",
    "\n",
    "fit4_2=model4.sample(data=data2, iter_sampling=1000, iter_warmup=1, chains =1)"
   ]
  },
  {
   "cell_type": "code",
   "execution_count": 6,
   "metadata": {},
   "outputs": [
    {
     "name": "stderr",
     "output_type": "stream",
     "text": [
      "c:\\Users\\Agnieszka\\anaconda3\\envs\\data-anatylics\\lib\\site-packages\\arviz\\stats\\stats.py:248: FutureWarning: The frame.append method is deprecated and will be removed from pandas in a future version. Use pandas.concat instead.\n",
      "  ics = ics.append([ic_func(dataset, pointwise=True, scale=scale, var_name=var_name)])\n",
      "c:\\Users\\Agnieszka\\anaconda3\\envs\\data-anatylics\\lib\\site-packages\\arviz\\stats\\stats.py:248: FutureWarning: The frame.append method is deprecated and will be removed from pandas in a future version. Use pandas.concat instead.\n",
      "  ics = ics.append([ic_func(dataset, pointwise=True, scale=scale, var_name=var_name)])\n"
     ]
    },
    {
     "name": "stdout",
     "output_type": "stream",
     "text": [
      "        rank         waic        p_waic      d_waic    weight          se  \\\n",
      "model4     0 -2407.451069  1.102486e-24    0.000000  0.454266   42.514710   \n",
      "model3     1 -3267.364781  2.282304e-23  859.913712  0.545734  408.008285   \n",
      "\n",
      "              dse  warning waic_scale  \n",
      "model4    0.00000    False        log  \n",
      "model3  390.14608    False        log  \n"
     ]
    },
    {
     "name": "stderr",
     "output_type": "stream",
     "text": [
      "c:\\Users\\Agnieszka\\anaconda3\\envs\\data-anatylics\\lib\\site-packages\\arviz\\stats\\stats.py:248: FutureWarning: The frame.append method is deprecated and will be removed from pandas in a future version. Use pandas.concat instead.\n",
      "  ics = ics.append([ic_func(dataset, pointwise=True, scale=scale, var_name=var_name)])\n"
     ]
    },
    {
     "name": "stdout",
     "output_type": "stream",
     "text": [
      "        rank        waic        p_waic     d_waic    weight         se  \\\n",
      "model3     0 -3805.99858  2.044203e-24    0.00000  0.763142  32.602275   \n",
      "model4     1 -3933.40581  2.133552e-24  127.40723  0.236858  31.230624   \n",
      "\n",
      "              dse  warning waic_scale  \n",
      "model3   0.000000    False        log  \n",
      "model4  22.777446    False        log  \n"
     ]
    },
    {
     "name": "stderr",
     "output_type": "stream",
     "text": [
      "c:\\Users\\Agnieszka\\anaconda3\\envs\\data-anatylics\\lib\\site-packages\\arviz\\stats\\stats.py:248: FutureWarning: The frame.append method is deprecated and will be removed from pandas in a future version. Use pandas.concat instead.\n",
      "  ics = ics.append([ic_func(dataset, pointwise=True, scale=scale, var_name=var_name)])\n"
     ]
    },
    {
     "data": {
      "text/plain": [
       "Text(0.5, 1.0, 'For data from model 2 - WAIC method')"
      ]
     },
     "execution_count": 6,
     "metadata": {},
     "output_type": "execute_result"
    },
    {
     "data": {
      "image/png": "[encoded data removed]",
      "text/plain": [
       "<Figure size 432x144 with 1 Axes>"
      ]
     },
     "metadata": {
      "needs_background": "light"
     },
     "output_type": "display_data"
    },
    {
     "data": {
      "image/png": "[encoded data removed]",
      "text/plain": [
       "<Figure size 432x144 with 1 Axes>"
      ]
     },
     "metadata": {
      "needs_background": "light"
     },
     "output_type": "display_data"
    }
   ],
   "source": [
    "compare_dict_1 = {'model3': fit3,'model4': fit4}\n",
    "compare_dict_2 = {'model3': fit3_2,'model4': fit4_2}\n",
    "\n",
    "model_compare_waic_1 = az.compare(compare_dict_1, ic = 'waic')\n",
    "\n",
    "print(model_compare_waic_1.head())\n",
    "az.plot_compare(model_compare_waic_1)\n",
    "plt.title('For data from model 1 - WAIC method')\n",
    "\n",
    "model_compare_waic_2 = az.compare(compare_dict_2, ic = 'waic')\n",
    "\n",
    "print(model_compare_waic_2.head())\n",
    "az.plot_compare(model_compare_waic_2)\n",
    "plt.title('For data from model 2 - WAIC method')\n"
   ]
  },
  {
   "cell_type": "markdown",
   "metadata": {},
   "source": [
    "It looks like the model 4 is a better model in both cases - the middle value is on the same level as value from dataset, so model will be good using a new data. \n",
    "With using the current data - model4 will deal with the current data better in case of data from model 2 due to the faact that it's range is pretty wide and covers the dataset values."
   ]
  },
  {
   "cell_type": "code",
   "execution_count": 7,
   "metadata": {},
   "outputs": [
    {
     "name": "stderr",
     "output_type": "stream",
     "text": [
      "c:\\Users\\Agnieszka\\anaconda3\\envs\\data-anatylics\\lib\\site-packages\\arviz\\stats\\stats.py:694: UserWarning: Estimated shape parameter of Pareto distribution is greater than 0.7 for one or more samples. You should consider using a more robust model, this is because importance sampling is less likely to work well if the marginal posterior and LOO posterior are very different. This is more likely to happen with a non-robust model and highly influential observations.\n",
      "  warnings.warn(\n",
      "c:\\Users\\Agnieszka\\anaconda3\\envs\\data-anatylics\\lib\\site-packages\\arviz\\stats\\stats.py:248: FutureWarning: The frame.append method is deprecated and will be removed from pandas in a future version. Use pandas.concat instead.\n",
      "  ics = ics.append([ic_func(dataset, pointwise=True, scale=scale, var_name=var_name)])\n",
      "c:\\Users\\Agnieszka\\anaconda3\\envs\\data-anatylics\\lib\\site-packages\\arviz\\stats\\stats.py:694: UserWarning: Estimated shape parameter of Pareto distribution is greater than 0.7 for one or more samples. You should consider using a more robust model, this is because importance sampling is less likely to work well if the marginal posterior and LOO posterior are very different. This is more likely to happen with a non-robust model and highly influential observations.\n",
      "  warnings.warn(\n",
      "c:\\Users\\Agnieszka\\anaconda3\\envs\\data-anatylics\\lib\\site-packages\\arviz\\stats\\stats.py:248: FutureWarning: The frame.append method is deprecated and will be removed from pandas in a future version. Use pandas.concat instead.\n",
      "  ics = ics.append([ic_func(dataset, pointwise=True, scale=scale, var_name=var_name)])\n"
     ]
    },
    {
     "name": "stdout",
     "output_type": "stream",
     "text": [
      "        rank          loo  p_loo       d_loo    weight          se        dse  \\\n",
      "model4     0 -2407.451069    0.0    0.000000  0.454266   42.514710    0.00000   \n",
      "model3     1 -3267.364781    0.0  859.913712  0.545734  408.008285  390.14608   \n",
      "\n",
      "        warning loo_scale  \n",
      "model4     True       log  \n",
      "model3     True       log  \n"
     ]
    },
    {
     "name": "stderr",
     "output_type": "stream",
     "text": [
      "c:\\Users\\Agnieszka\\anaconda3\\envs\\data-anatylics\\lib\\site-packages\\arviz\\stats\\stats.py:694: UserWarning: Estimated shape parameter of Pareto distribution is greater than 0.7 for one or more samples. You should consider using a more robust model, this is because importance sampling is less likely to work well if the marginal posterior and LOO posterior are very different. This is more likely to happen with a non-robust model and highly influential observations.\n",
      "  warnings.warn(\n",
      "c:\\Users\\Agnieszka\\anaconda3\\envs\\data-anatylics\\lib\\site-packages\\arviz\\stats\\stats.py:248: FutureWarning: The frame.append method is deprecated and will be removed from pandas in a future version. Use pandas.concat instead.\n",
      "  ics = ics.append([ic_func(dataset, pointwise=True, scale=scale, var_name=var_name)])\n",
      "c:\\Users\\Agnieszka\\anaconda3\\envs\\data-anatylics\\lib\\site-packages\\arviz\\stats\\stats.py:694: UserWarning: Estimated shape parameter of Pareto distribution is greater than 0.7 for one or more samples. You should consider using a more robust model, this is because importance sampling is less likely to work well if the marginal posterior and LOO posterior are very different. This is more likely to happen with a non-robust model and highly influential observations.\n",
      "  warnings.warn(\n",
      "c:\\Users\\Agnieszka\\anaconda3\\envs\\data-anatylics\\lib\\site-packages\\arviz\\stats\\stats.py:248: FutureWarning: The frame.append method is deprecated and will be removed from pandas in a future version. Use pandas.concat instead.\n",
      "  ics = ics.append([ic_func(dataset, pointwise=True, scale=scale, var_name=var_name)])\n"
     ]
    },
    {
     "name": "stdout",
     "output_type": "stream",
     "text": [
      "        rank         loo  p_loo      d_loo    weight         se        dse  \\\n",
      "model3     0 -3805.99858    0.0    0.00000  0.763142  32.602275   0.000000   \n",
      "model4     1 -3933.40581    0.0  127.40723  0.236858  31.230624  22.777446   \n",
      "\n",
      "        warning loo_scale  \n",
      "model3     True       log  \n",
      "model4     True       log  \n"
     ]
    },
    {
     "data": {
      "text/plain": [
       "Text(0.5, 1.0, 'For data from model 2 - LOO method')"
      ]
     },
     "execution_count": 7,
     "metadata": {},
     "output_type": "execute_result"
    },
    {
     "data": {
      "image/png": "[encoded data removed]",
      "text/plain": [
       "<Figure size 432x144 with 1 Axes>"
      ]
     },
     "metadata": {
      "needs_background": "light"
     },
     "output_type": "display_data"
    },
    {
     "data": {
      "image/png": "[encoded data removed]",
      "text/plain": [
       "<Figure size 432x144 with 1 Axes>"
      ]
     },
     "metadata": {
      "needs_background": "light"
     },
     "output_type": "display_data"
    }
   ],
   "source": [
    "model_compare_loo_1 = az.compare(compare_dict_1, ic=\"loo\", method=\"stacking\", scale=\"log\")\n",
    "\n",
    "print(model_compare_loo_1.head())\n",
    "az.plot_compare(model_compare_loo_1)\n",
    "plt.title('For data from model 1 - LOO method')\n",
    "\n",
    "model_compare_loo_2 = az.compare(compare_dict_2, ic = 'loo')\n",
    "\n",
    "print(model_compare_loo_2.head())\n",
    "az.plot_compare(model_compare_loo_2)\n",
    "plt.title('For data from model 2 - LOO method')"
   ]
  },
  {
   "cell_type": "markdown",
   "metadata": {},
   "source": [
    "The LOO and WAIC gives the same results. Conculsions about the models are below the WAIC method."
   ]
  },
  {
   "cell_type": "markdown",
   "metadata": {},
   "source": [
    "## Excercise 3 - compare models with different numbers of predictors"
   ]
  },
  {
   "cell_type": "code",
   "execution_count": 8,
   "metadata": {},
   "outputs": [],
   "source": [
    "x2 = sample2.stan_variable('X')\n",
    "\n",
    "x2_1 = x2.reshape(1000,-1)[0:1,:N]\n",
    "x2_1 = np.transpose(x2_1)\n",
    "\n",
    "x2_2 = x2.reshape(1000,-1)[0:2,:N]\n",
    "x2_2 = np.transpose(x2_2)\n",
    "\n",
    "x2_3 = x2.reshape(1000,-1)[0:3,:N]\n",
    "x2_3 = np.transpose(x2_3)\n"
   ]
  },
  {
   "cell_type": "code",
   "execution_count": 9,
   "metadata": {},
   "outputs": [
    {
     "name": "stderr",
     "output_type": "stream",
     "text": [
      "INFO:cmdstanpy:found newer exe file, not recompiling\n",
      "INFO:cmdstanpy:CmdStan start processing\n",
      "chain 1 |\u001b[34m██████████\u001b[0m| 00:07 Sampling completed                      "
     ]
    },
    {
     "name": "stdout",
     "output_type": "stream",
     "text": [
      "                                                                                "
     ]
    },
    {
     "name": "stderr",
     "output_type": "stream",
     "text": [
      "\n",
      "INFO:cmdstanpy:CmdStan done processing.\n"
     ]
    },
    {
     "name": "stdout",
     "output_type": "stream",
     "text": [
      "\n"
     ]
    },
    {
     "name": "stderr",
     "output_type": "stream",
     "text": [
      "INFO:cmdstanpy:CmdStan start processing\n",
      "chain 1 |\u001b[34m██████████\u001b[0m| 00:07 Sampling completed                      "
     ]
    },
    {
     "name": "stdout",
     "output_type": "stream",
     "text": [
      "                                                                                "
     ]
    },
    {
     "name": "stderr",
     "output_type": "stream",
     "text": [
      "\n",
      "INFO:cmdstanpy:CmdStan done processing.\n"
     ]
    },
    {
     "name": "stdout",
     "output_type": "stream",
     "text": [
      "\n"
     ]
    },
    {
     "name": "stderr",
     "output_type": "stream",
     "text": [
      "INFO:cmdstanpy:CmdStan start processing\n",
      "chain 1 |\u001b[34m██████████\u001b[0m| 00:07 Sampling completed                      "
     ]
    },
    {
     "name": "stdout",
     "output_type": "stream",
     "text": [
      "                                                                                "
     ]
    },
    {
     "name": "stderr",
     "output_type": "stream",
     "text": [
      "\n",
      "INFO:cmdstanpy:CmdStan done processing.\n"
     ]
    },
    {
     "name": "stdout",
     "output_type": "stream",
     "text": [
      "\n"
     ]
    }
   ],
   "source": [
    "model5 = CmdStanModel(stan_file='code_5.stan')\n",
    "\n",
    "fit5_1 = model5.sample(data={'N':N, 'K': 1, 'y':y2,'X':x2_1} ,\n",
    "                            fixed_param=True, \n",
    "                            iter_sampling=1000, \n",
    "                            iter_warmup=1, \n",
    "                            chains = 1)\n",
    "\n",
    "\n",
    "fit5_2 = model5.sample(data={'N':N, 'K': 2, 'y':y2,'X':x2_2} ,\n",
    "                            fixed_param=True, \n",
    "                            iter_sampling=1000, \n",
    "                            iter_warmup=1, \n",
    "                            chains = 1)\n",
    "                            \n",
    "\n",
    "fit5_3 = model5.sample(data={'N':N, 'K': 3, 'y':y2,'X':x2_3} ,\n",
    "                            fixed_param=True, \n",
    "                            iter_sampling=1000, \n",
    "                            iter_warmup=1, \n",
    "                            chains = 1)"
   ]
  },
  {
   "cell_type": "code",
   "execution_count": 11,
   "metadata": {},
   "outputs": [
    {
     "name": "stderr",
     "output_type": "stream",
     "text": [
      "c:\\Users\\Agnieszka\\anaconda3\\envs\\data-anatylics\\lib\\site-packages\\arviz\\stats\\stats.py:694: UserWarning: Estimated shape parameter of Pareto distribution is greater than 0.7 for one or more samples. You should consider using a more robust model, this is because importance sampling is less likely to work well if the marginal posterior and LOO posterior are very different. This is more likely to happen with a non-robust model and highly influential observations.\n",
      "  warnings.warn(\n",
      "c:\\Users\\Agnieszka\\anaconda3\\envs\\data-anatylics\\lib\\site-packages\\arviz\\stats\\stats.py:248: FutureWarning: The frame.append method is deprecated and will be removed from pandas in a future version. Use pandas.concat instead.\n",
      "  ics = ics.append([ic_func(dataset, pointwise=True, scale=scale, var_name=var_name)])\n",
      "c:\\Users\\Agnieszka\\anaconda3\\envs\\data-anatylics\\lib\\site-packages\\arviz\\stats\\stats.py:694: UserWarning: Estimated shape parameter of Pareto distribution is greater than 0.7 for one or more samples. You should consider using a more robust model, this is because importance sampling is less likely to work well if the marginal posterior and LOO posterior are very different. This is more likely to happen with a non-robust model and highly influential observations.\n",
      "  warnings.warn(\n",
      "c:\\Users\\Agnieszka\\anaconda3\\envs\\data-anatylics\\lib\\site-packages\\arviz\\stats\\stats.py:248: FutureWarning: The frame.append method is deprecated and will be removed from pandas in a future version. Use pandas.concat instead.\n",
      "  ics = ics.append([ic_func(dataset, pointwise=True, scale=scale, var_name=var_name)])\n",
      "c:\\Users\\Agnieszka\\anaconda3\\envs\\data-anatylics\\lib\\site-packages\\arviz\\stats\\stats.py:694: UserWarning: Estimated shape parameter of Pareto distribution is greater than 0.7 for one or more samples. You should consider using a more robust model, this is because importance sampling is less likely to work well if the marginal posterior and LOO posterior are very different. This is more likely to happen with a non-robust model and highly influential observations.\n",
      "  warnings.warn(\n",
      "c:\\Users\\Agnieszka\\anaconda3\\envs\\data-anatylics\\lib\\site-packages\\arviz\\stats\\stats.py:248: FutureWarning: The frame.append method is deprecated and will be removed from pandas in a future version. Use pandas.concat instead.\n",
      "  ics = ics.append([ic_func(dataset, pointwise=True, scale=scale, var_name=var_name)])\n",
      "c:\\Users\\Agnieszka\\anaconda3\\envs\\data-anatylics\\lib\\site-packages\\arviz\\stats\\stats.py:248: FutureWarning: The frame.append method is deprecated and will be removed from pandas in a future version. Use pandas.concat instead.\n",
      "  ics = ics.append([ic_func(dataset, pointwise=True, scale=scale, var_name=var_name)])\n",
      "c:\\Users\\Agnieszka\\anaconda3\\envs\\data-anatylics\\lib\\site-packages\\arviz\\stats\\stats.py:248: FutureWarning: The frame.append method is deprecated and will be removed from pandas in a future version. Use pandas.concat instead.\n",
      "  ics = ics.append([ic_func(dataset, pointwise=True, scale=scale, var_name=var_name)])\n",
      "c:\\Users\\Agnieszka\\anaconda3\\envs\\data-anatylics\\lib\\site-packages\\arviz\\stats\\stats.py:248: FutureWarning: The frame.append method is deprecated and will be removed from pandas in a future version. Use pandas.concat instead.\n",
      "  ics = ics.append([ic_func(dataset, pointwise=True, scale=scale, var_name=var_name)])\n"
     ]
    },
    {
     "name": "stdout",
     "output_type": "stream",
     "text": [
      "        rank           loo  p_loo         d_loo    weight          se  \\\n",
      "fit5_3     0  -4001.984590    0.0      0.000000  0.718539   13.212748   \n",
      "fit5_1     1 -11703.910760    0.0   7701.926170  0.200948  381.879320   \n",
      "fit5_2     2 -26289.937058    0.0  22287.952468  0.080513  970.993204   \n",
      "\n",
      "               dse  warning loo_scale  \n",
      "fit5_3    0.000000     True       log  \n",
      "fit5_1  375.818862     True       log  \n",
      "fit5_2  967.949361     True       log  \n",
      "        rank          waic        p_waic        d_waic    weight          se  \\\n",
      "fit5_3     0  -4001.984590  1.769180e-24      0.000000  0.718539   13.212748   \n",
      "fit5_1     1 -11703.910760  4.730488e-23   7701.926170  0.200948  381.879320   \n",
      "fit5_2     2 -26289.937058  2.914069e-22  22287.952468  0.080513  970.993204   \n",
      "\n",
      "               dse  warning waic_scale  \n",
      "fit5_3    0.000000    False        log  \n",
      "fit5_1  375.818862    False        log  \n",
      "fit5_2  967.949361    False        log  \n"
     ]
    },
    {
     "data": {
      "text/plain": [
       "Text(0.5, 1.0, 'For data from model 5 - waic')"
      ]
     },
     "execution_count": 11,
     "metadata": {},
     "output_type": "execute_result"
    },
    {
     "data": {
      "image/png": "[encoded data removed]",
      "text/plain": [
       "<Figure size 432x216 with 1 Axes>"
      ]
     },
     "metadata": {
      "needs_background": "light"
     },
     "output_type": "display_data"
    },
    {
     "data": {
      "image/png": "[encoded data removed]",
      "text/plain": [
       "<Figure size 432x216 with 1 Axes>"
      ]
     },
     "metadata": {
      "needs_background": "light"
     },
     "output_type": "display_data"
    }
   ],
   "source": [
    "compare_dict_model5 = {'fit5_1': fit5_1, 'fit5_2': fit5_2, 'fit5_3': fit5_3}\n",
    "\n",
    "model_compare_loo = az.compare(compare_dict_model5, ic=\"loo\")\n",
    "model_compare_waic = az.compare(compare_dict_model5, ic=\"waic\")\n",
    "\n",
    "print(model_compare_loo.head())\n",
    "az.plot_compare(model_compare_loo)\n",
    "plt.title('For data from model 5 - loo')\n",
    "\n",
    "print(model_compare_waic.head())\n",
    "az.plot_compare(model_compare_waic)\n",
    "plt.title('For data from model 5 - waic')"
   ]
  },
  {
   "cell_type": "markdown",
   "metadata": {},
   "source": [
    "Fit5_3 in both cases is the best choice - it means that the number of predictors definitely matter. In this case the bigger number is the better. Fit5_3 model will be good with the new data (comparin the central value) and with the current data (comparing the data range)"
   ]
  }
 ],
 "metadata": {
  "interpreter": {
   "hash": "3daf6c350f2a0ede664192fc5f83250b54ba88dd11a44229b323659fc71bf29b"
  },
  "kernelspec": {
   "display_name": "Python 3.9.10 ('data-anatylics')",
   "language": "python",
   "name": "python3"
  },
  "language_info": {
   "codemirror_mode": {
    "name": "ipython",
    "version": 3
   },
   "file_extension": ".py",
   "mimetype": "text/x-python",
   "name": "python",
   "nbconvert_exporter": "python",
   "pygments_lexer": "ipython3",
   "version": "3.9.10"
  },
  "orig_nbformat": 4
 },
 "nbformat": 4,
 "nbformat_minor": 2
}
