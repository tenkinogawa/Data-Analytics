{
 "cells": [
  {
   "cell_type": "markdown",
   "metadata": {},
   "source": [
    "## Data Analytics Project - US STATE CRIME (1960-2019)"
   ]
  },
  {
   "cell_type": "markdown",
   "metadata": {},
   "source": [
    "Autors: Agnieszka Welian, Katarzyna Wątorska\n",
    "Date: 14-06-2022"
   ]
  },
  {
   "cell_type": "markdown",
   "metadata": {},
   "source": [
    "# 1. Description of the data"
   ]
  },
  {
   "cell_type": "markdown",
   "metadata": {},
   "source": [
    "From the Unified Crime Reporting Statistics and under the collaboration of the U.S. Department of Justice and the Federal Bureau of Investigation information crime statistics are available for public review. The following data set has information on the crime rates and totals for states across the United States for a wide range of years. The crime reports are divided into two main categories: property and violent crime. Property crime refers to burglary, larceny, and motor related crime while violent crime refers to assault, murder, rape, and robbery. These reports go from 1960 to 2019."
   ]
  },
  {
   "cell_type": "markdown",
   "metadata": {},
   "source": [
    "The main goal of this project will be to take into consideration values from 1960 to 2018 and predict value of specific crime rare for 2019 for selected state."
   ]
  },
  {
   "cell_type": "markdown",
   "metadata": {},
   "source": [
    "Source: https://think.cs.vt.edu/corgis/csv/state_crime/ (which logged data from FBI page)"
   ]
  },
  {
   "cell_type": "code",
   "execution_count": 34,
   "metadata": {},
   "outputs": [],
   "source": [
    "import arviz as az\n",
    "import numpy as np\n",
    "import scipy.stats as stats\n",
    "\n",
    "import pandas as pd\n",
    "import seaborn as sns\n",
    "import matplotlib.pyplot as plt\n",
    "\n",
    "from cmdstanpy import CmdStanModel\n",
    "import warnings"
   ]
  },
  {
   "cell_type": "code",
   "execution_count": 35,
   "metadata": {},
   "outputs": [
    {
     "data": {
      "text/html": [
       "<div>\n",
       "<style scoped>\n",
       "    .dataframe tbody tr th:only-of-type {\n",
       "        vertical-align: middle;\n",
       "    }\n",
       "\n",
       "    .dataframe tbody tr th {\n",
       "        vertical-align: top;\n",
       "    }\n",
       "\n",
       "    .dataframe thead th {\n",
       "        text-align: right;\n",
       "    }\n",
       "</style>\n",
       "<table border=\"1\" class=\"dataframe\">\n",
       "  <thead>\n",
       "    <tr style=\"text-align: right;\">\n",
       "      <th></th>\n",
       "      <th>State</th>\n",
       "      <th>Year</th>\n",
       "      <th>Data.Population</th>\n",
       "      <th>Data.Rates.Property.All</th>\n",
       "      <th>Data.Rates.Property.Burglary</th>\n",
       "      <th>Data.Rates.Property.Larceny</th>\n",
       "      <th>Data.Rates.Property.Motor</th>\n",
       "      <th>Data.Rates.Violent.All</th>\n",
       "      <th>Data.Rates.Violent.Assault</th>\n",
       "      <th>Data.Rates.Violent.Murder</th>\n",
       "      <th>...</th>\n",
       "      <th>Data.Rates.Violent.Robbery</th>\n",
       "      <th>Data.Totals.Property.All</th>\n",
       "      <th>Data.Totals.Property.Burglary</th>\n",
       "      <th>Data.Totals.Property.Larceny</th>\n",
       "      <th>Data.Totals.Property.Motor</th>\n",
       "      <th>Data.Totals.Violent.All</th>\n",
       "      <th>Data.Totals.Violent.Assault</th>\n",
       "      <th>Data.Totals.Violent.Murder</th>\n",
       "      <th>Data.Totals.Violent.Rape</th>\n",
       "      <th>Data.Totals.Violent.Robbery</th>\n",
       "    </tr>\n",
       "  </thead>\n",
       "  <tbody>\n",
       "    <tr>\n",
       "      <th>0</th>\n",
       "      <td>Alabama</td>\n",
       "      <td>1960</td>\n",
       "      <td>3266740</td>\n",
       "      <td>1035.4</td>\n",
       "      <td>355.9</td>\n",
       "      <td>592.1</td>\n",
       "      <td>87.3</td>\n",
       "      <td>186.6</td>\n",
       "      <td>138.1</td>\n",
       "      <td>12.4</td>\n",
       "      <td>...</td>\n",
       "      <td>27.5</td>\n",
       "      <td>33823</td>\n",
       "      <td>11626</td>\n",
       "      <td>19344</td>\n",
       "      <td>2853</td>\n",
       "      <td>6097</td>\n",
       "      <td>4512</td>\n",
       "      <td>406</td>\n",
       "      <td>281</td>\n",
       "      <td>898</td>\n",
       "    </tr>\n",
       "    <tr>\n",
       "      <th>1</th>\n",
       "      <td>Alabama</td>\n",
       "      <td>1961</td>\n",
       "      <td>3302000</td>\n",
       "      <td>985.5</td>\n",
       "      <td>339.3</td>\n",
       "      <td>569.4</td>\n",
       "      <td>76.8</td>\n",
       "      <td>168.5</td>\n",
       "      <td>128.9</td>\n",
       "      <td>12.9</td>\n",
       "      <td>...</td>\n",
       "      <td>19.1</td>\n",
       "      <td>32541</td>\n",
       "      <td>11205</td>\n",
       "      <td>18801</td>\n",
       "      <td>2535</td>\n",
       "      <td>5564</td>\n",
       "      <td>4255</td>\n",
       "      <td>427</td>\n",
       "      <td>252</td>\n",
       "      <td>630</td>\n",
       "    </tr>\n",
       "    <tr>\n",
       "      <th>2</th>\n",
       "      <td>Alabama</td>\n",
       "      <td>1962</td>\n",
       "      <td>3358000</td>\n",
       "      <td>1067.0</td>\n",
       "      <td>349.1</td>\n",
       "      <td>634.5</td>\n",
       "      <td>83.4</td>\n",
       "      <td>157.3</td>\n",
       "      <td>119.0</td>\n",
       "      <td>9.4</td>\n",
       "      <td>...</td>\n",
       "      <td>22.5</td>\n",
       "      <td>35829</td>\n",
       "      <td>11722</td>\n",
       "      <td>21306</td>\n",
       "      <td>2801</td>\n",
       "      <td>5283</td>\n",
       "      <td>3995</td>\n",
       "      <td>316</td>\n",
       "      <td>218</td>\n",
       "      <td>754</td>\n",
       "    </tr>\n",
       "    <tr>\n",
       "      <th>3</th>\n",
       "      <td>Alabama</td>\n",
       "      <td>1963</td>\n",
       "      <td>3347000</td>\n",
       "      <td>1150.9</td>\n",
       "      <td>376.9</td>\n",
       "      <td>683.4</td>\n",
       "      <td>90.6</td>\n",
       "      <td>182.7</td>\n",
       "      <td>142.1</td>\n",
       "      <td>10.2</td>\n",
       "      <td>...</td>\n",
       "      <td>24.7</td>\n",
       "      <td>38521</td>\n",
       "      <td>12614</td>\n",
       "      <td>22874</td>\n",
       "      <td>3033</td>\n",
       "      <td>6115</td>\n",
       "      <td>4755</td>\n",
       "      <td>340</td>\n",
       "      <td>192</td>\n",
       "      <td>828</td>\n",
       "    </tr>\n",
       "    <tr>\n",
       "      <th>4</th>\n",
       "      <td>Alabama</td>\n",
       "      <td>1964</td>\n",
       "      <td>3407000</td>\n",
       "      <td>1358.7</td>\n",
       "      <td>466.6</td>\n",
       "      <td>784.1</td>\n",
       "      <td>108.0</td>\n",
       "      <td>213.1</td>\n",
       "      <td>163.0</td>\n",
       "      <td>9.3</td>\n",
       "      <td>...</td>\n",
       "      <td>29.1</td>\n",
       "      <td>46290</td>\n",
       "      <td>15898</td>\n",
       "      <td>26713</td>\n",
       "      <td>3679</td>\n",
       "      <td>7260</td>\n",
       "      <td>5555</td>\n",
       "      <td>316</td>\n",
       "      <td>397</td>\n",
       "      <td>992</td>\n",
       "    </tr>\n",
       "  </tbody>\n",
       "</table>\n",
       "<p>5 rows × 21 columns</p>\n",
       "</div>"
      ],
      "text/plain": [
       "     State  Year  Data.Population  Data.Rates.Property.All  \\\n",
       "0  Alabama  1960          3266740                   1035.4   \n",
       "1  Alabama  1961          3302000                    985.5   \n",
       "2  Alabama  1962          3358000                   1067.0   \n",
       "3  Alabama  1963          3347000                   1150.9   \n",
       "4  Alabama  1964          3407000                   1358.7   \n",
       "\n",
       "   Data.Rates.Property.Burglary  Data.Rates.Property.Larceny  \\\n",
       "0                         355.9                        592.1   \n",
       "1                         339.3                        569.4   \n",
       "2                         349.1                        634.5   \n",
       "3                         376.9                        683.4   \n",
       "4                         466.6                        784.1   \n",
       "\n",
       "   Data.Rates.Property.Motor  Data.Rates.Violent.All  \\\n",
       "0                       87.3                   186.6   \n",
       "1                       76.8                   168.5   \n",
       "2                       83.4                   157.3   \n",
       "3                       90.6                   182.7   \n",
       "4                      108.0                   213.1   \n",
       "\n",
       "   Data.Rates.Violent.Assault  Data.Rates.Violent.Murder  ...  \\\n",
       "0                       138.1                       12.4  ...   \n",
       "1                       128.9                       12.9  ...   \n",
       "2                       119.0                        9.4  ...   \n",
       "3                       142.1                       10.2  ...   \n",
       "4                       163.0                        9.3  ...   \n",
       "\n",
       "   Data.Rates.Violent.Robbery  Data.Totals.Property.All  \\\n",
       "0                        27.5                     33823   \n",
       "1                        19.1                     32541   \n",
       "2                        22.5                     35829   \n",
       "3                        24.7                     38521   \n",
       "4                        29.1                     46290   \n",
       "\n",
       "   Data.Totals.Property.Burglary  Data.Totals.Property.Larceny  \\\n",
       "0                          11626                         19344   \n",
       "1                          11205                         18801   \n",
       "2                          11722                         21306   \n",
       "3                          12614                         22874   \n",
       "4                          15898                         26713   \n",
       "\n",
       "   Data.Totals.Property.Motor  Data.Totals.Violent.All  \\\n",
       "0                        2853                     6097   \n",
       "1                        2535                     5564   \n",
       "2                        2801                     5283   \n",
       "3                        3033                     6115   \n",
       "4                        3679                     7260   \n",
       "\n",
       "   Data.Totals.Violent.Assault  Data.Totals.Violent.Murder  \\\n",
       "0                         4512                         406   \n",
       "1                         4255                         427   \n",
       "2                         3995                         316   \n",
       "3                         4755                         340   \n",
       "4                         5555                         316   \n",
       "\n",
       "   Data.Totals.Violent.Rape  Data.Totals.Violent.Robbery  \n",
       "0                       281                          898  \n",
       "1                       252                          630  \n",
       "2                       218                          754  \n",
       "3                       192                          828  \n",
       "4                       397                          992  \n",
       "\n",
       "[5 rows x 21 columns]"
      ]
     },
     "execution_count": 35,
     "metadata": {},
     "output_type": "execute_result"
    }
   ],
   "source": [
    "df = pd.read_csv(\"state_crime.csv\")\n",
    "df.head()"
   ]
  },
  {
   "cell_type": "code",
   "execution_count": 36,
   "metadata": {},
   "outputs": [
    {
     "data": {
      "text/plain": [
       "Index(['State', 'Year', 'Data.Population', 'Data.Rates.Property.All',\n",
       "       'Data.Rates.Property.Burglary', 'Data.Rates.Property.Larceny',\n",
       "       'Data.Rates.Property.Motor', 'Data.Rates.Violent.All',\n",
       "       'Data.Rates.Violent.Assault', 'Data.Rates.Violent.Murder',\n",
       "       'Data.Rates.Violent.Rape', 'Data.Rates.Violent.Robbery',\n",
       "       'Data.Totals.Property.All', 'Data.Totals.Property.Burglary',\n",
       "       'Data.Totals.Property.Larceny', 'Data.Totals.Property.Motor',\n",
       "       'Data.Totals.Violent.All', 'Data.Totals.Violent.Assault',\n",
       "       'Data.Totals.Violent.Murder', 'Data.Totals.Violent.Rape',\n",
       "       'Data.Totals.Violent.Robbery'],\n",
       "      dtype='object')"
      ]
     },
     "execution_count": 36,
     "metadata": {},
     "output_type": "execute_result"
    }
   ],
   "source": [
    "df.columns"
   ]
  },
  {
   "cell_type": "code",
   "execution_count": 37,
   "metadata": {},
   "outputs": [
    {
     "data": {
      "text/html": [
       "<div>\n",
       "<style scoped>\n",
       "    .dataframe tbody tr th:only-of-type {\n",
       "        vertical-align: middle;\n",
       "    }\n",
       "\n",
       "    .dataframe tbody tr th {\n",
       "        vertical-align: top;\n",
       "    }\n",
       "\n",
       "    .dataframe thead th {\n",
       "        text-align: right;\n",
       "    }\n",
       "</style>\n",
       "<table border=\"1\" class=\"dataframe\">\n",
       "  <thead>\n",
       "    <tr style=\"text-align: right;\">\n",
       "      <th></th>\n",
       "      <th>State</th>\n",
       "      <th>Year</th>\n",
       "      <th>Data.Population</th>\n",
       "      <th>Data.Rates.Property.All</th>\n",
       "      <th>Data.Rates.Property.Burglary</th>\n",
       "      <th>Data.Rates.Property.Larceny</th>\n",
       "      <th>Data.Rates.Property.Motor</th>\n",
       "      <th>Data.Rates.Violent.All</th>\n",
       "      <th>Data.Rates.Violent.Assault</th>\n",
       "      <th>Data.Rates.Violent.Murder</th>\n",
       "      <th>...</th>\n",
       "      <th>Data.Rates.Violent.Robbery</th>\n",
       "      <th>Data.Totals.Property.All</th>\n",
       "      <th>Data.Totals.Property.Burglary</th>\n",
       "      <th>Data.Totals.Property.Larceny</th>\n",
       "      <th>Data.Totals.Property.Motor</th>\n",
       "      <th>Data.Totals.Violent.All</th>\n",
       "      <th>Data.Totals.Violent.Assault</th>\n",
       "      <th>Data.Totals.Violent.Murder</th>\n",
       "      <th>Data.Totals.Violent.Rape</th>\n",
       "      <th>Data.Totals.Violent.Robbery</th>\n",
       "    </tr>\n",
       "  </thead>\n",
       "  <tbody>\n",
       "    <tr>\n",
       "      <th>295</th>\n",
       "      <td>California</td>\n",
       "      <td>2015</td>\n",
       "      <td>39144818</td>\n",
       "      <td>253.8</td>\n",
       "      <td>2618.3</td>\n",
       "      <td>504.3</td>\n",
       "      <td>1677.1</td>\n",
       "      <td>426.3</td>\n",
       "      <td>135.0</td>\n",
       "      <td>4.8</td>\n",
       "      <td>...</td>\n",
       "      <td>24.0</td>\n",
       "      <td>99349</td>\n",
       "      <td>1024914</td>\n",
       "      <td>197404</td>\n",
       "      <td>656517</td>\n",
       "      <td>166883</td>\n",
       "      <td>52862</td>\n",
       "      <td>1861</td>\n",
       "      <td>12811</td>\n",
       "      <td>9387</td>\n",
       "    </tr>\n",
       "    <tr>\n",
       "      <th>296</th>\n",
       "      <td>California</td>\n",
       "      <td>2016</td>\n",
       "      <td>39250017</td>\n",
       "      <td>2553.0</td>\n",
       "      <td>479.8</td>\n",
       "      <td>1623.0</td>\n",
       "      <td>450.3</td>\n",
       "      <td>445.3</td>\n",
       "      <td>265.9</td>\n",
       "      <td>4.9</td>\n",
       "      <td>...</td>\n",
       "      <td>139.6</td>\n",
       "      <td>1002070</td>\n",
       "      <td>188304</td>\n",
       "      <td>637010</td>\n",
       "      <td>176756</td>\n",
       "      <td>174796</td>\n",
       "      <td>104375</td>\n",
       "      <td>1930</td>\n",
       "      <td>13702</td>\n",
       "      <td>54789</td>\n",
       "    </tr>\n",
       "    <tr>\n",
       "      <th>297</th>\n",
       "      <td>California</td>\n",
       "      <td>2017</td>\n",
       "      <td>39536653</td>\n",
       "      <td>2496.7</td>\n",
       "      <td>446.9</td>\n",
       "      <td>1623.9</td>\n",
       "      <td>425.9</td>\n",
       "      <td>449.3</td>\n",
       "      <td>264.2</td>\n",
       "      <td>4.6</td>\n",
       "      <td>...</td>\n",
       "      <td>143.2</td>\n",
       "      <td>987114</td>\n",
       "      <td>176690</td>\n",
       "      <td>642033</td>\n",
       "      <td>168391</td>\n",
       "      <td>177627</td>\n",
       "      <td>104454</td>\n",
       "      <td>1830</td>\n",
       "      <td>14721</td>\n",
       "      <td>56622</td>\n",
       "    </tr>\n",
       "    <tr>\n",
       "      <th>298</th>\n",
       "      <td>California</td>\n",
       "      <td>2018</td>\n",
       "      <td>39557045</td>\n",
       "      <td>2380.4</td>\n",
       "      <td>416.2</td>\n",
       "      <td>1571.8</td>\n",
       "      <td>392.4</td>\n",
       "      <td>447.4</td>\n",
       "      <td>266.5</td>\n",
       "      <td>4.4</td>\n",
       "      <td>...</td>\n",
       "      <td>137.3</td>\n",
       "      <td>941618</td>\n",
       "      <td>164632</td>\n",
       "      <td>621775</td>\n",
       "      <td>155211</td>\n",
       "      <td>176982</td>\n",
       "      <td>105412</td>\n",
       "      <td>1739</td>\n",
       "      <td>15505</td>\n",
       "      <td>54326</td>\n",
       "    </tr>\n",
       "    <tr>\n",
       "      <th>299</th>\n",
       "      <td>California</td>\n",
       "      <td>2019</td>\n",
       "      <td>39512223</td>\n",
       "      <td>2331.2</td>\n",
       "      <td>386.1</td>\n",
       "      <td>1586.3</td>\n",
       "      <td>358.8</td>\n",
       "      <td>441.2</td>\n",
       "      <td>267.1</td>\n",
       "      <td>4.3</td>\n",
       "      <td>...</td>\n",
       "      <td>132.4</td>\n",
       "      <td>921114</td>\n",
       "      <td>152555</td>\n",
       "      <td>626802</td>\n",
       "      <td>141757</td>\n",
       "      <td>174331</td>\n",
       "      <td>105541</td>\n",
       "      <td>1690</td>\n",
       "      <td>14799</td>\n",
       "      <td>52301</td>\n",
       "    </tr>\n",
       "  </tbody>\n",
       "</table>\n",
       "<p>5 rows × 21 columns</p>\n",
       "</div>"
      ],
      "text/plain": [
       "          State  Year  Data.Population  Data.Rates.Property.All  \\\n",
       "295  California  2015         39144818                    253.8   \n",
       "296  California  2016         39250017                   2553.0   \n",
       "297  California  2017         39536653                   2496.7   \n",
       "298  California  2018         39557045                   2380.4   \n",
       "299  California  2019         39512223                   2331.2   \n",
       "\n",
       "     Data.Rates.Property.Burglary  Data.Rates.Property.Larceny  \\\n",
       "295                        2618.3                        504.3   \n",
       "296                         479.8                       1623.0   \n",
       "297                         446.9                       1623.9   \n",
       "298                         416.2                       1571.8   \n",
       "299                         386.1                       1586.3   \n",
       "\n",
       "     Data.Rates.Property.Motor  Data.Rates.Violent.All  \\\n",
       "295                     1677.1                   426.3   \n",
       "296                      450.3                   445.3   \n",
       "297                      425.9                   449.3   \n",
       "298                      392.4                   447.4   \n",
       "299                      358.8                   441.2   \n",
       "\n",
       "     Data.Rates.Violent.Assault  Data.Rates.Violent.Murder  ...  \\\n",
       "295                       135.0                        4.8  ...   \n",
       "296                       265.9                        4.9  ...   \n",
       "297                       264.2                        4.6  ...   \n",
       "298                       266.5                        4.4  ...   \n",
       "299                       267.1                        4.3  ...   \n",
       "\n",
       "     Data.Rates.Violent.Robbery  Data.Totals.Property.All  \\\n",
       "295                        24.0                     99349   \n",
       "296                       139.6                   1002070   \n",
       "297                       143.2                    987114   \n",
       "298                       137.3                    941618   \n",
       "299                       132.4                    921114   \n",
       "\n",
       "     Data.Totals.Property.Burglary  Data.Totals.Property.Larceny  \\\n",
       "295                        1024914                        197404   \n",
       "296                         188304                        637010   \n",
       "297                         176690                        642033   \n",
       "298                         164632                        621775   \n",
       "299                         152555                        626802   \n",
       "\n",
       "     Data.Totals.Property.Motor  Data.Totals.Violent.All  \\\n",
       "295                      656517                   166883   \n",
       "296                      176756                   174796   \n",
       "297                      168391                   177627   \n",
       "298                      155211                   176982   \n",
       "299                      141757                   174331   \n",
       "\n",
       "     Data.Totals.Violent.Assault  Data.Totals.Violent.Murder  \\\n",
       "295                        52862                        1861   \n",
       "296                       104375                        1930   \n",
       "297                       104454                        1830   \n",
       "298                       105412                        1739   \n",
       "299                       105541                        1690   \n",
       "\n",
       "     Data.Totals.Violent.Rape  Data.Totals.Violent.Robbery  \n",
       "295                     12811                         9387  \n",
       "296                     13702                        54789  \n",
       "297                     14721                        56622  \n",
       "298                     15505                        54326  \n",
       "299                     14799                        52301  \n",
       "\n",
       "[5 rows x 21 columns]"
      ]
     },
     "execution_count": 37,
     "metadata": {},
     "output_type": "execute_result"
    }
   ],
   "source": [
    "cal = df[df['State'] == \"California\"]\n",
    "cal.tail()"
   ]
  },
  {
   "cell_type": "code",
   "execution_count": 38,
   "metadata": {},
   "outputs": [
    {
     "name": "stderr",
     "output_type": "stream",
     "text": [
      "c:\\Users\\Agnieszka\\anaconda3\\envs\\data-anatylics\\lib\\site-packages\\seaborn\\_decorators.py:36: FutureWarning: Pass the following variables as keyword args: x, y. From version 0.12, the only valid positional argument will be `data`, and passing other arguments without an explicit keyword will result in an error or misinterpretation.\n",
      "  warnings.warn(\n"
     ]
    },
    {
     "data": {
      "text/plain": [
       "<AxesSubplot:xlabel='Year', ylabel='Data.Population'>"
      ]
     },
     "execution_count": 38,
     "metadata": {},
     "output_type": "execute_result"
    },
    {
     "data": {
      "image/png": "[encoded data removed]",
      "text/plain": [
       "<Figure size 432x288 with 1 Axes>"
      ]
     },
     "metadata": {
      "needs_background": "light"
     },
     "output_type": "display_data"
    }
   ],
   "source": [
    "sns.scatterplot(cal['Year'], cal['Data.Population'])"
   ]
  },
  {
   "cell_type": "code",
   "execution_count": 39,
   "metadata": {},
   "outputs": [
    {
     "name": "stderr",
     "output_type": "stream",
     "text": [
      "c:\\Users\\Agnieszka\\anaconda3\\envs\\data-anatylics\\lib\\site-packages\\seaborn\\_decorators.py:36: FutureWarning: Pass the following variables as keyword args: x, y. From version 0.12, the only valid positional argument will be `data`, and passing other arguments without an explicit keyword will result in an error or misinterpretation.\n",
      "  warnings.warn(\n"
     ]
    },
    {
     "data": {
      "text/plain": [
       "<AxesSubplot:xlabel='Year', ylabel='Data.Rates.Violent.All'>"
      ]
     },
     "execution_count": 39,
     "metadata": {},
     "output_type": "execute_result"
    },
    {
     "data": {
      "image/png": "[encoded data removed]",
      "text/plain": [
       "<Figure size 432x288 with 1 Axes>"
      ]
     },
     "metadata": {
      "needs_background": "light"
     },
     "output_type": "display_data"
    }
   ],
   "source": [
    "sns.scatterplot(cal['Year'], cal['Data.Rates.Violent.All'])\n",
    "# sns.scatterplot(cal['Year'], cal['Data.Rates.Violent.Murder'])"
   ]
  },
  {
   "cell_type": "code",
   "execution_count": 40,
   "metadata": {},
   "outputs": [
    {
     "name": "stderr",
     "output_type": "stream",
     "text": [
      "c:\\Users\\Agnieszka\\anaconda3\\envs\\data-anatylics\\lib\\site-packages\\seaborn\\_decorators.py:36: FutureWarning: Pass the following variables as keyword args: x, y. From version 0.12, the only valid positional argument will be `data`, and passing other arguments without an explicit keyword will result in an error or misinterpretation.\n",
      "  warnings.warn(\n",
      "c:\\Users\\Agnieszka\\anaconda3\\envs\\data-anatylics\\lib\\site-packages\\seaborn\\_decorators.py:36: FutureWarning: Pass the following variables as keyword args: x, y. From version 0.12, the only valid positional argument will be `data`, and passing other arguments without an explicit keyword will result in an error or misinterpretation.\n",
      "  warnings.warn(\n"
     ]
    },
    {
     "data": {
      "text/plain": [
       "<AxesSubplot:xlabel='Year', ylabel='Data.Totals.Violent.Robbery'>"
      ]
     },
     "execution_count": 40,
     "metadata": {},
     "output_type": "execute_result"
    },
    {
     "data": {
      "image/png": "[encoded data removed]",
      "text/plain": [
       "<Figure size 432x288 with 1 Axes>"
      ]
     },
     "metadata": {
      "needs_background": "light"
     },
     "output_type": "display_data"
    }
   ],
   "source": [
    "sns.scatterplot(cal['Year'], cal['Data.Totals.Violent.Robbery'])\n",
    "sns.scatterplot(cal['Year'], cal['Data.Totals.Violent.Rape'])\n"
   ]
  },
  {
   "cell_type": "code",
   "execution_count": 41,
   "metadata": {},
   "outputs": [
    {
     "data": {
      "text/plain": [
       "9654.166666666666"
      ]
     },
     "execution_count": 41,
     "metadata": {},
     "output_type": "execute_result"
    }
   ],
   "source": [
    "np.mean(cal['Data.Totals.Violent.Rape'])"
   ]
  },
  {
   "cell_type": "code",
   "execution_count": 42,
   "metadata": {},
   "outputs": [
    {
     "name": "stderr",
     "output_type": "stream",
     "text": [
      "INFO:cmdstanpy:found newer exe file, not recompiling\n",
      "INFO:cmdstanpy:CmdStan start processing\n",
      "chain 1 |\u001b[34m██████████\u001b[0m| 00:00 Sampling completed                       "
     ]
    },
    {
     "name": "stdout",
     "output_type": "stream",
     "text": [
      "                                                                                "
     ]
    },
    {
     "name": "stderr",
     "output_type": "stream",
     "text": [
      "\n",
      "INFO:cmdstanpy:CmdStan done processing.\n"
     ]
    },
    {
     "name": "stdout",
     "output_type": "stream",
     "text": [
      "\n",
      "[3130.53 3150.28 3155.93 3137.07 3148.63 3098.23 3109.26 3155.65 3149.09\n",
      " 3100.5  3119.86 3134.21 3145.21 3127.69 3162.6  3130.51 3138.31 3159.56\n",
      " 3133.86 3167.64 3135.54 3140.73 3143.59 3147.94 3126.2  3117.85 3146.47\n",
      " 3157.97 3094.5  3134.69 3181.6  3158.36 3138.03 3132.66 3156.41 3129.4\n",
      " 3138.82 3148.32 3124.36 3115.46 3150.66 3122.27 3133.88 3127.39 3150.73\n",
      " 3148.11 3119.58 3143.85 3124.62 3155.3  3148.47 3141.21 3107.31 3153.44\n",
      " 3189.2  3143.05 3141.37 3129.47 3132.79 3128.99 3142.12 3178.27 3133.5\n",
      " 3158.92 3133.95 3129.13 3116.22 3125.88 3130.04 3127.6  3139.81 3163.38\n",
      " 3139.45 3126.34 3140.03 3138.28 3132.33 3134.77 3118.53 3137.31 3131.11\n",
      " 3149.13 3107.64 3095.55 3130.83 3150.84 3149.02 3138.29 3128.5  3132.22\n",
      " 3142.87 3081.71 3159.68 3170.03 3135.55 3128.23 3153.77 3130.52 3138.01\n",
      " 3178.7  3133.47 3108.03 3117.5  3138.28 3116.1  3136.82 3158.65 3137.75\n",
      " 3143.   3129.9  3159.59 3148.41 3135.68 3142.18 3126.38 3152.62 3139.31\n",
      " 3127.86 3131.25 3140.61 3137.33 3131.05 3122.33 3139.99 3121.4  3138.09\n",
      " 3139.14 3120.13 3156.95 3165.36 3158.88 3118.07 3109.72 3122.72 3133.46\n",
      " 3131.45 3153.95 3155.15 3148.45 3153.55 3124.96 3115.   3127.99 3166.75\n",
      " 3159.43 3102.53 3141.9  3135.27 3128.13 3135.7  3107.3  3124.59 3139.08\n",
      " 3143.61 3091.33 3150.36 3116.16 3119.89 3165.64 3141.9  3126.89 3111.89\n",
      " 3123.24 3110.77 3106.82 3146.13 3141.27 3131.97 3160.   3136.56 3130.25\n",
      " 3142.12 3079.08 3118.33 3137.51 3124.09 3108.22 3135.63 3137.29 3121.65\n",
      " 3166.3  3160.94 3143.65 3167.11 3158.54 3140.87 3116.55 3138.18 3149.12\n",
      " 3129.49 3152.52 3126.95 3141.82 3175.98 3143.38 3143.56 3157.61 3145.67\n",
      " 3115.99 3150.97 3149.76 3125.35 3142.17 3138.28 3096.9  3131.32 3130.\n",
      " 3140.19 3118.29 3120.28 3101.74 3125.46 3114.21 3124.49 3102.44 3141.75\n",
      " 3141.51 3144.85 3135.88 3127.28 3148.98 3108.7  3115.86 3145.22 3136.37\n",
      " 3132.87 3110.25 3111.19 3148.2  3144.71 3118.21 3130.41 3154.42 3122.11\n",
      " 3147.54 3118.02 3134.57 3149.9  3159.41 3130.78 3110.96 3154.44 3116.71\n",
      " 3131.93 3131.46 3158.32 3112.13 3146.27 3133.4  3146.26 3129.55 3176.17\n",
      " 3125.76 3166.81 3170.09 3121.26 3137.9  3113.34 3125.25 3119.79 3131.06\n",
      " 3120.97 3149.8  3136.42 3132.62 3113.79 3143.17 3121.55 3144.39 3135.53\n",
      " 3124.9  3148.28 3136.74 3119.49 3147.44 3162.43 3136.   3132.17 3150.92\n",
      " 3120.44 3098.11 3136.63 3132.9  3131.93 3114.6  3116.78 3151.66 3108.78\n",
      " 3123.67 3150.42 3140.37 3121.69 3136.91 3126.59 3131.69 3127.88 3129.48\n",
      " 3124.33 3143.11 3137.64 3132.58 3124.32 3109.87 3121.12 3143.46 3102.85\n",
      " 3134.4  3166.71 3129.76 3124.09 3121.04 3165.65 3134.2  3147.42 3134.33\n",
      " 3141.9  3097.76 3144.39 3143.75 3131.37 3145.26 3125.95 3128.4  3143.92\n",
      " 3139.08 3153.3  3124.12 3115.18 3134.8  3150.68 3155.18 3148.28 3117.18\n",
      " 3086.26 3112.89 3153.07 3150.11 3142.24 3140.37 3126.45 3159.46 3115.9\n",
      " 3128.97 3168.52 3140.51 3119.94 3152.11 3119.68 3145.02 3162.55 3147.68\n",
      " 3162.7  3113.15 3136.14 3122.73 3135.55 3164.05 3146.44 3124.49 3121.26\n",
      " 3126.93 3154.12 3129.   3141.65 3114.87 3141.35 3148.28 3135.23 3157.12\n",
      " 3149.06 3144.73 3138.23 3136.11 3126.48 3141.59 3138.54 3102.48 3152.77\n",
      " 3125.04 3139.64 3140.41 3095.99 3125.44 3127.05 3128.7  3143.82 3115.49\n",
      " 3150.48 3152.79 3125.07 3161.13 3139.97 3126.   3149.68 3105.13 3136.81\n",
      " 3142.66 3137.7  3137.71 3156.37 3153.57 3133.05 3106.19 3151.7  3120.05\n",
      " 3150.52 3131.48 3135.17 3135.95 3106.41 3141.89 3130.84 3117.9  3123.26\n",
      " 3132.47 3136.41 3173.82 3156.4  3147.49 3111.3  3161.59 3118.99 3158.23\n",
      " 3172.11 3141.84 3101.76 3135.38 3171.89 3143.49 3143.32 3154.67 3123.97\n",
      " 3135.63 3136.61 3132.97 3154.97 3109.14 3136.86 3115.44 3156.82 3132.12\n",
      " 3152.75 3127.64 3143.79 3128.21 3153.02 3167.3  3149.22 3113.21 3151.48\n",
      " 3113.7  3113.11 3126.8  3112.54 3135.33 3131.29 3137.64 3140.58 3125.14\n",
      " 3138.8  3150.03 3112.49 3158.05 3138.79 3181.82 3140.4  3163.1  3187.93\n",
      " 3124.68 3134.11 3141.64 3138.24 3143.59 3135.67 3172.05 3109.2  3116.78\n",
      " 3135.89 3140.41 3123.99 3172.01 3141.79 3139.4  3118.56 3107.83 3123.65\n",
      " 3159.34 3156.5  3127.32 3084.46 3152.8  3134.84 3148.19 3119.94 3112.14\n",
      " 3124.39 3165.45 3138.56 3137.86 3144.48 3137.1  3110.47 3142.41 3117.19\n",
      " 3136.83 3165.55 3169.01 3118.44 3131.23 3144.3  3148.21 3132.23 3125.42\n",
      " 3155.31 3131.06 3111.04 3162.73 3086.56 3152.12 3115.07 3131.13 3116.33\n",
      " 3120.53 3123.08 3154.17 3138.66 3132.57 3144.38 3137.51 3115.41 3136.19\n",
      " 3153.62 3141.86 3158.88 3155.24 3131.35 3119.33 3117.66 3155.95 3139.47\n",
      " 3168.92 3125.54 3154.4  3113.84 3153.32 3130.69 3145.28 3124.45 3129.34\n",
      " 3123.49 3153.08 3109.19 3144.89 3120.33 3144.5  3129.59 3109.58 3124.84\n",
      " 3106.76 3121.91 3114.47 3163.13 3126.97 3113.51 3139.54 3081.96 3121.09\n",
      " 3151.13 3148.87 3131.53 3129.27 3130.62 3154.04 3113.53 3131.41 3137.81\n",
      " 3097.42 3137.26 3168.91 3133.99 3129.47 3144.35 3130.28 3104.47 3161.93\n",
      " 3146.55 3145.1  3114.04 3119.12 3124.71 3149.8  3138.4  3135.67 3145.78\n",
      " 3123.   3162.78 3135.15 3105.63 3119.17 3120.06 3140.21 3165.51 3147.23\n",
      " 3147.6  3131.13 3118.11 3123.83 3154.73 3141.29 3144.14 3097.46 3110.09\n",
      " 3135.2  3164.69 3131.37 3134.34 3127.28 3176.5  3092.56 3110.86 3148.77\n",
      " 3166.52 3161.51 3147.38 3128.6  3094.82 3126.61 3136.86 3150.62 3129.26\n",
      " 3141.78 3149.99 3140.09 3137.68 3111.68 3135.26 3138.02 3132.99 3140.83\n",
      " 3153.72 3121.31 3122.35 3117.94 3167.74 3117.52 3132.09 3153.97 3146.29\n",
      " 3136.96 3112.18 3129.13 3143.99 3157.98 3116.75 3137.81 3129.2  3155.46\n",
      " 3131.4  3146.21 3113.8  3160.56 3162.67 3156.94 3135.73 3152.52 3119.78\n",
      " 3143.67 3124.53 3152.03 3131.31 3109.06 3175.6  3102.1  3134.44 3140.77\n",
      " 3153.68 3141.56 3136.5  3148.44 3118.9  3137.82 3162.79 3152.88 3152.04\n",
      " 3095.   3136.43 3127.3  3130.02 3171.74 3161.24 3149.5  3141.7  3142.02\n",
      " 3159.05 3142.54 3154.81 3141.19 3124.42 3138.6  3148.48 3137.5  3136.05\n",
      " 3093.66 3160.48 3115.96 3126.4  3141.61 3111.39 3148.3  3145.92 3165.62\n",
      " 3132.66 3120.75 3128.84 3128.02 3160.55 3159.09 3132.89 3152.69 3133.41\n",
      " 3128.49 3140.79 3137.56 3129.07 3130.97 3124.4  3140.95 3146.87 3141.22\n",
      " 3144.23 3157.81 3142.77 3148.6  3153.65 3151.22 3122.53 3141.26 3138.3\n",
      " 3147.42 3126.75 3107.75 3111.27 3150.6  3162.99 3104.87 3149.86 3139.51\n",
      " 3112.15 3151.33 3155.06 3133.54 3154.97 3149.67 3108.81 3128.85 3085.31\n",
      " 3123.49 3141.07 3118.68 3143.09 3132.28 3117.93 3144.61 3150.94 3141.83\n",
      " 3103.69 3137.08 3173.68 3148.83 3137.8  3140.77 3125.88 3140.26 3144.08\n",
      " 3120.77 3134.73 3132.2  3129.47 3129.9  3142.7  3132.97 3147.74 3101.95\n",
      " 3124.94 3142.8  3108.84 3162.8  3124.23 3141.11 3149.82 3128.57 3103.5\n",
      " 3148.47 3115.07 3143.9  3125.19 3148.11 3120.77 3116.87 3144.92 3138.07\n",
      " 3130.78 3121.18 3131.18 3155.98 3151.21 3115.08 3152.02 3138.51 3117.54\n",
      " 3162.28 3126.36 3127.89 3148.79 3166.22 3127.79 3154.82 3143.62 3140.76\n",
      " 3148.57 3106.04 3134.48 3141.61 3135.07 3149.55 3128.71 3114.83 3147.74\n",
      " 3146.21 3164.39 3114.32 3169.73 3156.1  3147.6  3133.99 3167.02 3138.41\n",
      " 3114.38 3104.67 3144.36 3131.46 3131.15 3129.24 3151.11 3139.61 3140.54\n",
      " 3133.15 3152.82 3149.78 3158.28 3124.87 3139.92 3113.85 3143.25 3129.67\n",
      " 3126.66 3172.3  3125.54 3131.99 3124.65 3161.9  3155.37 3131.59 3147.48\n",
      " 3133.99 3151.12 3145.98 3156.39 3152.42 3161.09 3139.11 3117.   3144.46\n",
      " 3123.77 3129.41 3131.26 3135.53 3127.69 3118.56 3176.37 3115.3  3134.44\n",
      " 3119.93 3155.28 3124.18 3154.53 3137.03 3126.65 3106.09 3129.08 3157.67\n",
      " 3089.17 3120.05 3149.08 3158.89 3113.24 3135.34 3173.06 3159.44 3133.84\n",
      " 3138.18 3173.87 3133.88 3161.11 3161.27 3129.16 3155.11 3109.56 3143.4\n",
      " 3134.38 3126.11 3176.15 3157.63 3156.7  3115.82 3139.08 3131.25 3103.18\n",
      " 3126.41 3129.07 3113.25 3138.97 3146.43 3114.62 3146.54 3132.69 3133.79\n",
      " 3134.41 3118.92 3140.26 3171.97 3134.99 3124.26 3144.77 3119.24 3147.68\n",
      " 3152.35 3120.41 3127.4  3150.67 3105.72 3121.54 3115.37 3152.94 3137.79\n",
      " 3162.86 3135.26 3148.94 3143.9  3126.07 3134.13 3142.97 3128.74 3153.88\n",
      " 3148.26 3148.4  3130.24 3130.85 3140.09 3158.56 3129.38 3129.77 3115.06\n",
      " 3105.45 3123.74 3104.04 3122.55 3146.79 3140.13 3127.69 3161.16 3143.41\n",
      " 3123.33 3138.02 3132.99 3140.82 3119.49 3162.47 3136.17 3122.58 3133.45\n",
      " 3141.92 3155.07 3126.76 3169.73 3107.27 3132.52 3134.76 3128.77 3134.76\n",
      " 3177.08 3139.39 3138.31 3150.44 3121.95 3163.99 3141.4  3141.57 3129.89\n",
      " 3156.42]\n"
     ]
    }
   ],
   "source": [
    "xpred = 2020\n",
    "model = CmdStanModel(stan_file='gaussian_model.stan')\n",
    "stan_data = {\n",
    "    'N': len(cal),\n",
    "    'x': cal['Year'],\n",
    "    'y': cal['Data.Totals.Violent.Rape'],\n",
    "    'xpred': xpred,\n",
    "    'prior_mualpha': 402, # centered offset\n",
    "    'prior_sigmaalpha': 10,\n",
    "    # slope - \n",
    "    'prior_mubeta': 0, # both rise and fall are equally likely\n",
    "    'prior_sigmabeta': 10,\n",
    "    'prior_ssigma': 0.2\n",
    "\n",
    "}\n",
    "sample1 = model.sample(stan_data, iter_sampling=1000, iter_warmup=1,  chains =1, seed = 123456789)\n",
    "\n",
    "print(sample1.stan_variable('ypred'))\n",
    "\n",
    "#niepewnośc opisana rozkładem Gaussa"
   ]
  },
  {
   "cell_type": "code",
   "execution_count": 43,
   "metadata": {},
   "outputs": [
    {
     "data": {
      "image/png": "[encoded data removed]",
      "text/plain": [
       "<Figure size 432x288 with 1 Axes>"
      ]
     },
     "metadata": {
      "needs_background": "light"
     },
     "output_type": "display_data"
    }
   ],
   "source": [
    "plt.plot(sample1.stan_variable('ypred'))\n",
    "plt.show()"
   ]
  },
  {
   "cell_type": "code",
   "execution_count": 44,
   "metadata": {},
   "outputs": [
    {
     "name": "stderr",
     "output_type": "stream",
     "text": [
      "INFO:cmdstanpy:found newer exe file, not recompiling\n"
     ]
    }
   ],
   "source": [
    "student_model = CmdStanModel(stan_file='student_t_model.stan')"
   ]
  }
 ],
 "metadata": {
  "interpreter": {
   "hash": "3daf6c350f2a0ede664192fc5f83250b54ba88dd11a44229b323659fc71bf29b"
  },
  "kernelspec": {
   "display_name": "Python 3.9.10 ('data-anatylics')",
   "language": "python",
   "name": "python3"
  },
  "language_info": {
   "codemirror_mode": {
    "name": "ipython",
    "version": 3
   },
   "file_extension": ".py",
   "mimetype": "text/x-python",
   "name": "python",
   "nbconvert_exporter": "python",
   "pygments_lexer": "ipython3",
   "version": "3.9.10"
  },
  "orig_nbformat": 4
 },
 "nbformat": 4,
 "nbformat_minor": 2
}
