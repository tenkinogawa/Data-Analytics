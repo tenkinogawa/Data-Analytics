{
 "cells": [
  {
   "cell_type": "markdown",
   "metadata": {},
   "source": [
    "## Data Analytics Project - US STATE CRIME (1960-2019)"
   ]
  },
  {
   "cell_type": "markdown",
   "metadata": {},
   "source": [
    "Autors: Agnieszka Welian, Katarzyna Wątorska\n",
    "<br>\n",
    "Date: 14-06-2022"
   ]
  },
  {
   "cell_type": "markdown",
   "metadata": {},
   "source": [
    "# 1. Description of the data"
   ]
  },
  {
   "cell_type": "markdown",
   "metadata": {},
   "source": [
    "From the Unified Crime Reporting Statistics and under the collaboration of the U.S. Department of Justice and the Federal Bureau of Investigation information crime statistics are available for public review. The following data set has information on the crime rates and totals for states across the United States for a wide range of years. The crime reports are divided into two main categories: property and violent crime. Property crime refers to burglary, larceny, and motor related crime while violent crime refers to assault, murder, rape, and robbery. These reports go from 1960 to 2019."
   ]
  },
  {
   "cell_type": "markdown",
   "metadata": {},
   "source": [
    "The main goal of this project will be to take into consideration values from 1960 to 2018 and predict value of specific crime rare for 2019 for selected state."
   ]
  },
  {
   "cell_type": "markdown",
   "metadata": {},
   "source": [
    "Source: https://think.cs.vt.edu/corgis/csv/state_crime/ (which are logged data from FBI page)"
   ]
  },
  {
   "cell_type": "code",
   "execution_count": 2,
   "metadata": {},
   "outputs": [],
   "source": [
    "import arviz as az\n",
    "import numpy as np\n",
    "import scipy.stats as stats\n",
    "\n",
    "import pandas as pd\n",
    "import seaborn as sns\n",
    "import matplotlib.pyplot as plt\n",
    "import matplotlib as mpl\n",
    "\n",
    "from cmdstanpy import CmdStanModel\n",
    "import warnings"
   ]
  },
  {
   "cell_type": "code",
   "execution_count": 3,
   "metadata": {},
   "outputs": [
    {
     "data": {
      "text/html": [
       "<div>\n",
       "<style scoped>\n",
       "    .dataframe tbody tr th:only-of-type {\n",
       "        vertical-align: middle;\n",
       "    }\n",
       "\n",
       "    .dataframe tbody tr th {\n",
       "        vertical-align: top;\n",
       "    }\n",
       "\n",
       "    .dataframe thead th {\n",
       "        text-align: right;\n",
       "    }\n",
       "</style>\n",
       "<table border=\"1\" class=\"dataframe\">\n",
       "  <thead>\n",
       "    <tr style=\"text-align: right;\">\n",
       "      <th></th>\n",
       "      <th>State</th>\n",
       "      <th>Year</th>\n",
       "      <th>Data.Population</th>\n",
       "      <th>Data.Rates.Property.All</th>\n",
       "      <th>Data.Rates.Property.Burglary</th>\n",
       "      <th>Data.Rates.Property.Larceny</th>\n",
       "      <th>Data.Rates.Property.Motor</th>\n",
       "      <th>Data.Rates.Violent.All</th>\n",
       "      <th>Data.Rates.Violent.Assault</th>\n",
       "      <th>Data.Rates.Violent.Murder</th>\n",
       "      <th>...</th>\n",
       "      <th>Data.Rates.Violent.Robbery</th>\n",
       "      <th>Data.Totals.Property.All</th>\n",
       "      <th>Data.Totals.Property.Burglary</th>\n",
       "      <th>Data.Totals.Property.Larceny</th>\n",
       "      <th>Data.Totals.Property.Motor</th>\n",
       "      <th>Data.Totals.Violent.All</th>\n",
       "      <th>Data.Totals.Violent.Assault</th>\n",
       "      <th>Data.Totals.Violent.Murder</th>\n",
       "      <th>Data.Totals.Violent.Rape</th>\n",
       "      <th>Data.Totals.Violent.Robbery</th>\n",
       "    </tr>\n",
       "  </thead>\n",
       "  <tbody>\n",
       "    <tr>\n",
       "      <th>0</th>\n",
       "      <td>Alabama</td>\n",
       "      <td>1960</td>\n",
       "      <td>3266740</td>\n",
       "      <td>1035.4</td>\n",
       "      <td>355.9</td>\n",
       "      <td>592.1</td>\n",
       "      <td>87.3</td>\n",
       "      <td>186.6</td>\n",
       "      <td>138.1</td>\n",
       "      <td>12.4</td>\n",
       "      <td>...</td>\n",
       "      <td>27.5</td>\n",
       "      <td>33823</td>\n",
       "      <td>11626</td>\n",
       "      <td>19344</td>\n",
       "      <td>2853</td>\n",
       "      <td>6097</td>\n",
       "      <td>4512</td>\n",
       "      <td>406</td>\n",
       "      <td>281</td>\n",
       "      <td>898</td>\n",
       "    </tr>\n",
       "    <tr>\n",
       "      <th>1</th>\n",
       "      <td>Alabama</td>\n",
       "      <td>1961</td>\n",
       "      <td>3302000</td>\n",
       "      <td>985.5</td>\n",
       "      <td>339.3</td>\n",
       "      <td>569.4</td>\n",
       "      <td>76.8</td>\n",
       "      <td>168.5</td>\n",
       "      <td>128.9</td>\n",
       "      <td>12.9</td>\n",
       "      <td>...</td>\n",
       "      <td>19.1</td>\n",
       "      <td>32541</td>\n",
       "      <td>11205</td>\n",
       "      <td>18801</td>\n",
       "      <td>2535</td>\n",
       "      <td>5564</td>\n",
       "      <td>4255</td>\n",
       "      <td>427</td>\n",
       "      <td>252</td>\n",
       "      <td>630</td>\n",
       "    </tr>\n",
       "    <tr>\n",
       "      <th>2</th>\n",
       "      <td>Alabama</td>\n",
       "      <td>1962</td>\n",
       "      <td>3358000</td>\n",
       "      <td>1067.0</td>\n",
       "      <td>349.1</td>\n",
       "      <td>634.5</td>\n",
       "      <td>83.4</td>\n",
       "      <td>157.3</td>\n",
       "      <td>119.0</td>\n",
       "      <td>9.4</td>\n",
       "      <td>...</td>\n",
       "      <td>22.5</td>\n",
       "      <td>35829</td>\n",
       "      <td>11722</td>\n",
       "      <td>21306</td>\n",
       "      <td>2801</td>\n",
       "      <td>5283</td>\n",
       "      <td>3995</td>\n",
       "      <td>316</td>\n",
       "      <td>218</td>\n",
       "      <td>754</td>\n",
       "    </tr>\n",
       "    <tr>\n",
       "      <th>3</th>\n",
       "      <td>Alabama</td>\n",
       "      <td>1963</td>\n",
       "      <td>3347000</td>\n",
       "      <td>1150.9</td>\n",
       "      <td>376.9</td>\n",
       "      <td>683.4</td>\n",
       "      <td>90.6</td>\n",
       "      <td>182.7</td>\n",
       "      <td>142.1</td>\n",
       "      <td>10.2</td>\n",
       "      <td>...</td>\n",
       "      <td>24.7</td>\n",
       "      <td>38521</td>\n",
       "      <td>12614</td>\n",
       "      <td>22874</td>\n",
       "      <td>3033</td>\n",
       "      <td>6115</td>\n",
       "      <td>4755</td>\n",
       "      <td>340</td>\n",
       "      <td>192</td>\n",
       "      <td>828</td>\n",
       "    </tr>\n",
       "    <tr>\n",
       "      <th>4</th>\n",
       "      <td>Alabama</td>\n",
       "      <td>1964</td>\n",
       "      <td>3407000</td>\n",
       "      <td>1358.7</td>\n",
       "      <td>466.6</td>\n",
       "      <td>784.1</td>\n",
       "      <td>108.0</td>\n",
       "      <td>213.1</td>\n",
       "      <td>163.0</td>\n",
       "      <td>9.3</td>\n",
       "      <td>...</td>\n",
       "      <td>29.1</td>\n",
       "      <td>46290</td>\n",
       "      <td>15898</td>\n",
       "      <td>26713</td>\n",
       "      <td>3679</td>\n",
       "      <td>7260</td>\n",
       "      <td>5555</td>\n",
       "      <td>316</td>\n",
       "      <td>397</td>\n",
       "      <td>992</td>\n",
       "    </tr>\n",
       "  </tbody>\n",
       "</table>\n",
       "<p>5 rows × 21 columns</p>\n",
       "</div>"
      ],
      "text/plain": [
       "     State  Year  Data.Population  Data.Rates.Property.All  \\\n",
       "0  Alabama  1960          3266740                   1035.4   \n",
       "1  Alabama  1961          3302000                    985.5   \n",
       "2  Alabama  1962          3358000                   1067.0   \n",
       "3  Alabama  1963          3347000                   1150.9   \n",
       "4  Alabama  1964          3407000                   1358.7   \n",
       "\n",
       "   Data.Rates.Property.Burglary  Data.Rates.Property.Larceny  \\\n",
       "0                         355.9                        592.1   \n",
       "1                         339.3                        569.4   \n",
       "2                         349.1                        634.5   \n",
       "3                         376.9                        683.4   \n",
       "4                         466.6                        784.1   \n",
       "\n",
       "   Data.Rates.Property.Motor  Data.Rates.Violent.All  \\\n",
       "0                       87.3                   186.6   \n",
       "1                       76.8                   168.5   \n",
       "2                       83.4                   157.3   \n",
       "3                       90.6                   182.7   \n",
       "4                      108.0                   213.1   \n",
       "\n",
       "   Data.Rates.Violent.Assault  Data.Rates.Violent.Murder  ...  \\\n",
       "0                       138.1                       12.4  ...   \n",
       "1                       128.9                       12.9  ...   \n",
       "2                       119.0                        9.4  ...   \n",
       "3                       142.1                       10.2  ...   \n",
       "4                       163.0                        9.3  ...   \n",
       "\n",
       "   Data.Rates.Violent.Robbery  Data.Totals.Property.All  \\\n",
       "0                        27.5                     33823   \n",
       "1                        19.1                     32541   \n",
       "2                        22.5                     35829   \n",
       "3                        24.7                     38521   \n",
       "4                        29.1                     46290   \n",
       "\n",
       "   Data.Totals.Property.Burglary  Data.Totals.Property.Larceny  \\\n",
       "0                          11626                         19344   \n",
       "1                          11205                         18801   \n",
       "2                          11722                         21306   \n",
       "3                          12614                         22874   \n",
       "4                          15898                         26713   \n",
       "\n",
       "   Data.Totals.Property.Motor  Data.Totals.Violent.All  \\\n",
       "0                        2853                     6097   \n",
       "1                        2535                     5564   \n",
       "2                        2801                     5283   \n",
       "3                        3033                     6115   \n",
       "4                        3679                     7260   \n",
       "\n",
       "   Data.Totals.Violent.Assault  Data.Totals.Violent.Murder  \\\n",
       "0                         4512                         406   \n",
       "1                         4255                         427   \n",
       "2                         3995                         316   \n",
       "3                         4755                         340   \n",
       "4                         5555                         316   \n",
       "\n",
       "   Data.Totals.Violent.Rape  Data.Totals.Violent.Robbery  \n",
       "0                       281                          898  \n",
       "1                       252                          630  \n",
       "2                       218                          754  \n",
       "3                       192                          828  \n",
       "4                       397                          992  \n",
       "\n",
       "[5 rows x 21 columns]"
      ]
     },
     "execution_count": 3,
     "metadata": {},
     "output_type": "execute_result"
    }
   ],
   "source": [
    "df = pd.read_csv(\"state_crime.csv\", sep = ',')\n",
    "df.head()"
   ]
  },
  {
   "cell_type": "code",
   "execution_count": 4,
   "metadata": {},
   "outputs": [
    {
     "data": {
      "text/plain": [
       "Index(['State', 'Year', 'Data.Population', 'Data.Rates.Property.All',\n",
       "       'Data.Rates.Property.Burglary', 'Data.Rates.Property.Larceny',\n",
       "       'Data.Rates.Property.Motor', 'Data.Rates.Violent.All',\n",
       "       'Data.Rates.Violent.Assault', 'Data.Rates.Violent.Murder',\n",
       "       'Data.Rates.Violent.Rape', 'Data.Rates.Violent.Robbery',\n",
       "       'Data.Totals.Property.All', 'Data.Totals.Property.Burglary',\n",
       "       'Data.Totals.Property.Larceny', 'Data.Totals.Property.Motor',\n",
       "       'Data.Totals.Violent.All', 'Data.Totals.Violent.Assault',\n",
       "       'Data.Totals.Violent.Murder', 'Data.Totals.Violent.Rape',\n",
       "       'Data.Totals.Violent.Robbery'],\n",
       "      dtype='object')"
      ]
     },
     "execution_count": 4,
     "metadata": {},
     "output_type": "execute_result"
    }
   ],
   "source": [
    "df.columns"
   ]
  },
  {
   "cell_type": "code",
   "execution_count": 5,
   "metadata": {},
   "outputs": [],
   "source": [
    "df.rename(columns = {'Data.Rates.Property.All':'Data_Rates_Property_All', 'Data.Population':'Data_Population'}, inplace = True)"
   ]
  },
  {
   "cell_type": "code",
   "execution_count": 6,
   "metadata": {},
   "outputs": [
    {
     "name": "stdout",
     "output_type": "stream",
     "text": [
      "count    3115.000000\n",
      "mean     3422.746388\n",
      "std      1575.438156\n",
      "min        66.900000\n",
      "25%      2357.650000\n",
      "50%      3420.200000\n",
      "75%      4433.900000\n",
      "max      9512.100000\n",
      "Name: Data_Rates_Property_All, dtype: float64\n"
     ]
    }
   ],
   "source": [
    "print(df.Data_Rates_Property_All.describe())"
   ]
  },
  {
   "cell_type": "code",
   "execution_count": 7,
   "metadata": {},
   "outputs": [
    {
     "name": "stdout",
     "output_type": "stream",
     "text": [
      "count    3.115000e+03\n",
      "mean     9.708502e+06\n",
      "std      3.506750e+07\n",
      "min      2.261670e+05\n",
      "25%      1.279156e+06\n",
      "50%      3.358000e+06\n",
      "75%      6.082836e+06\n",
      "max      3.282395e+08\n",
      "Name: Data_Population, dtype: float64\n"
     ]
    }
   ],
   "source": [
    "print(df.Data_Population.describe())"
   ]
  },
  {
   "cell_type": "code",
   "execution_count": 8,
   "metadata": {},
   "outputs": [
    {
     "data": {
      "text/html": [
       "<div>\n",
       "<style scoped>\n",
       "    .dataframe tbody tr th:only-of-type {\n",
       "        vertical-align: middle;\n",
       "    }\n",
       "\n",
       "    .dataframe tbody tr th {\n",
       "        vertical-align: top;\n",
       "    }\n",
       "\n",
       "    .dataframe thead th {\n",
       "        text-align: right;\n",
       "    }\n",
       "</style>\n",
       "<table border=\"1\" class=\"dataframe\">\n",
       "  <thead>\n",
       "    <tr style=\"text-align: right;\">\n",
       "      <th></th>\n",
       "      <th>State</th>\n",
       "      <th>Year</th>\n",
       "      <th>Data_Population</th>\n",
       "      <th>Data_Rates_Property_All</th>\n",
       "      <th>Data.Rates.Property.Burglary</th>\n",
       "      <th>Data.Rates.Property.Larceny</th>\n",
       "      <th>Data.Rates.Property.Motor</th>\n",
       "      <th>Data.Rates.Violent.All</th>\n",
       "      <th>Data.Rates.Violent.Assault</th>\n",
       "      <th>Data.Rates.Violent.Murder</th>\n",
       "      <th>...</th>\n",
       "      <th>Data.Rates.Violent.Robbery</th>\n",
       "      <th>Data.Totals.Property.All</th>\n",
       "      <th>Data.Totals.Property.Burglary</th>\n",
       "      <th>Data.Totals.Property.Larceny</th>\n",
       "      <th>Data.Totals.Property.Motor</th>\n",
       "      <th>Data.Totals.Violent.All</th>\n",
       "      <th>Data.Totals.Violent.Assault</th>\n",
       "      <th>Data.Totals.Violent.Murder</th>\n",
       "      <th>Data.Totals.Violent.Rape</th>\n",
       "      <th>Data.Totals.Violent.Robbery</th>\n",
       "    </tr>\n",
       "  </thead>\n",
       "  <tbody>\n",
       "    <tr>\n",
       "      <th>295</th>\n",
       "      <td>California</td>\n",
       "      <td>2015</td>\n",
       "      <td>39144818</td>\n",
       "      <td>253.8</td>\n",
       "      <td>2618.3</td>\n",
       "      <td>504.3</td>\n",
       "      <td>1677.1</td>\n",
       "      <td>426.3</td>\n",
       "      <td>135.0</td>\n",
       "      <td>4.8</td>\n",
       "      <td>...</td>\n",
       "      <td>24.0</td>\n",
       "      <td>99349</td>\n",
       "      <td>1024914</td>\n",
       "      <td>197404</td>\n",
       "      <td>656517</td>\n",
       "      <td>166883</td>\n",
       "      <td>52862</td>\n",
       "      <td>1861</td>\n",
       "      <td>12811</td>\n",
       "      <td>9387</td>\n",
       "    </tr>\n",
       "    <tr>\n",
       "      <th>296</th>\n",
       "      <td>California</td>\n",
       "      <td>2016</td>\n",
       "      <td>39250017</td>\n",
       "      <td>2553.0</td>\n",
       "      <td>479.8</td>\n",
       "      <td>1623.0</td>\n",
       "      <td>450.3</td>\n",
       "      <td>445.3</td>\n",
       "      <td>265.9</td>\n",
       "      <td>4.9</td>\n",
       "      <td>...</td>\n",
       "      <td>139.6</td>\n",
       "      <td>1002070</td>\n",
       "      <td>188304</td>\n",
       "      <td>637010</td>\n",
       "      <td>176756</td>\n",
       "      <td>174796</td>\n",
       "      <td>104375</td>\n",
       "      <td>1930</td>\n",
       "      <td>13702</td>\n",
       "      <td>54789</td>\n",
       "    </tr>\n",
       "    <tr>\n",
       "      <th>297</th>\n",
       "      <td>California</td>\n",
       "      <td>2017</td>\n",
       "      <td>39536653</td>\n",
       "      <td>2496.7</td>\n",
       "      <td>446.9</td>\n",
       "      <td>1623.9</td>\n",
       "      <td>425.9</td>\n",
       "      <td>449.3</td>\n",
       "      <td>264.2</td>\n",
       "      <td>4.6</td>\n",
       "      <td>...</td>\n",
       "      <td>143.2</td>\n",
       "      <td>987114</td>\n",
       "      <td>176690</td>\n",
       "      <td>642033</td>\n",
       "      <td>168391</td>\n",
       "      <td>177627</td>\n",
       "      <td>104454</td>\n",
       "      <td>1830</td>\n",
       "      <td>14721</td>\n",
       "      <td>56622</td>\n",
       "    </tr>\n",
       "    <tr>\n",
       "      <th>298</th>\n",
       "      <td>California</td>\n",
       "      <td>2018</td>\n",
       "      <td>39557045</td>\n",
       "      <td>2380.4</td>\n",
       "      <td>416.2</td>\n",
       "      <td>1571.8</td>\n",
       "      <td>392.4</td>\n",
       "      <td>447.4</td>\n",
       "      <td>266.5</td>\n",
       "      <td>4.4</td>\n",
       "      <td>...</td>\n",
       "      <td>137.3</td>\n",
       "      <td>941618</td>\n",
       "      <td>164632</td>\n",
       "      <td>621775</td>\n",
       "      <td>155211</td>\n",
       "      <td>176982</td>\n",
       "      <td>105412</td>\n",
       "      <td>1739</td>\n",
       "      <td>15505</td>\n",
       "      <td>54326</td>\n",
       "    </tr>\n",
       "    <tr>\n",
       "      <th>299</th>\n",
       "      <td>California</td>\n",
       "      <td>2019</td>\n",
       "      <td>39512223</td>\n",
       "      <td>2331.2</td>\n",
       "      <td>386.1</td>\n",
       "      <td>1586.3</td>\n",
       "      <td>358.8</td>\n",
       "      <td>441.2</td>\n",
       "      <td>267.1</td>\n",
       "      <td>4.3</td>\n",
       "      <td>...</td>\n",
       "      <td>132.4</td>\n",
       "      <td>921114</td>\n",
       "      <td>152555</td>\n",
       "      <td>626802</td>\n",
       "      <td>141757</td>\n",
       "      <td>174331</td>\n",
       "      <td>105541</td>\n",
       "      <td>1690</td>\n",
       "      <td>14799</td>\n",
       "      <td>52301</td>\n",
       "    </tr>\n",
       "  </tbody>\n",
       "</table>\n",
       "<p>5 rows × 21 columns</p>\n",
       "</div>"
      ],
      "text/plain": [
       "          State  Year  Data_Population  Data_Rates_Property_All  \\\n",
       "295  California  2015         39144818                    253.8   \n",
       "296  California  2016         39250017                   2553.0   \n",
       "297  California  2017         39536653                   2496.7   \n",
       "298  California  2018         39557045                   2380.4   \n",
       "299  California  2019         39512223                   2331.2   \n",
       "\n",
       "     Data.Rates.Property.Burglary  Data.Rates.Property.Larceny  \\\n",
       "295                        2618.3                        504.3   \n",
       "296                         479.8                       1623.0   \n",
       "297                         446.9                       1623.9   \n",
       "298                         416.2                       1571.8   \n",
       "299                         386.1                       1586.3   \n",
       "\n",
       "     Data.Rates.Property.Motor  Data.Rates.Violent.All  \\\n",
       "295                     1677.1                   426.3   \n",
       "296                      450.3                   445.3   \n",
       "297                      425.9                   449.3   \n",
       "298                      392.4                   447.4   \n",
       "299                      358.8                   441.2   \n",
       "\n",
       "     Data.Rates.Violent.Assault  Data.Rates.Violent.Murder  ...  \\\n",
       "295                       135.0                        4.8  ...   \n",
       "296                       265.9                        4.9  ...   \n",
       "297                       264.2                        4.6  ...   \n",
       "298                       266.5                        4.4  ...   \n",
       "299                       267.1                        4.3  ...   \n",
       "\n",
       "     Data.Rates.Violent.Robbery  Data.Totals.Property.All  \\\n",
       "295                        24.0                     99349   \n",
       "296                       139.6                   1002070   \n",
       "297                       143.2                    987114   \n",
       "298                       137.3                    941618   \n",
       "299                       132.4                    921114   \n",
       "\n",
       "     Data.Totals.Property.Burglary  Data.Totals.Property.Larceny  \\\n",
       "295                        1024914                        197404   \n",
       "296                         188304                        637010   \n",
       "297                         176690                        642033   \n",
       "298                         164632                        621775   \n",
       "299                         152555                        626802   \n",
       "\n",
       "     Data.Totals.Property.Motor  Data.Totals.Violent.All  \\\n",
       "295                      656517                   166883   \n",
       "296                      176756                   174796   \n",
       "297                      168391                   177627   \n",
       "298                      155211                   176982   \n",
       "299                      141757                   174331   \n",
       "\n",
       "     Data.Totals.Violent.Assault  Data.Totals.Violent.Murder  \\\n",
       "295                        52862                        1861   \n",
       "296                       104375                        1930   \n",
       "297                       104454                        1830   \n",
       "298                       105412                        1739   \n",
       "299                       105541                        1690   \n",
       "\n",
       "     Data.Totals.Violent.Rape  Data.Totals.Violent.Robbery  \n",
       "295                     12811                         9387  \n",
       "296                     13702                        54789  \n",
       "297                     14721                        56622  \n",
       "298                     15505                        54326  \n",
       "299                     14799                        52301  \n",
       "\n",
       "[5 rows x 21 columns]"
      ]
     },
     "execution_count": 8,
     "metadata": {},
     "output_type": "execute_result"
    }
   ],
   "source": [
    "california = df[df['State'] == \"California\"]\n",
    "california.tail()"
   ]
  },
  {
   "cell_type": "code",
   "execution_count": 9,
   "metadata": {},
   "outputs": [
    {
     "name": "stdout",
     "output_type": "stream",
     "text": [
      "count    6.000000e+01\n",
      "mean     2.855579e+07\n",
      "std      7.628299e+06\n",
      "min      1.571720e+07\n",
      "25%      2.111550e+07\n",
      "50%      2.941151e+07\n",
      "75%      3.592007e+07\n",
      "max      3.955704e+07\n",
      "Name: Data_Population, dtype: float64\n"
     ]
    }
   ],
   "source": [
    "print(california.Data_Population.describe())"
   ]
  },
  {
   "cell_type": "code",
   "execution_count": 10,
   "metadata": {},
   "outputs": [
    {
     "name": "stdout",
     "output_type": "stream",
     "text": [
      "count      60.000000\n",
      "mean     4359.176667\n",
      "std      1702.765499\n",
      "min       232.300000\n",
      "25%      3177.725000\n",
      "50%      4294.700000\n",
      "75%      5760.975000\n",
      "max      6939.500000\n",
      "Name: Data_Rates_Property_All, dtype: float64\n"
     ]
    }
   ],
   "source": [
    "print(california.Data_Rates_Property_All.describe())"
   ]
  },
  {
   "cell_type": "code",
   "execution_count": 11,
   "metadata": {},
   "outputs": [],
   "source": [
    "# sns.scatterplot(california['Year'], california['Data.Population'])"
   ]
  },
  {
   "cell_type": "code",
   "execution_count": 12,
   "metadata": {},
   "outputs": [
    {
     "name": "stderr",
     "output_type": "stream",
     "text": [
      "c:\\Users\\Agnieszka\\anaconda3\\envs\\data-anatylics\\lib\\site-packages\\seaborn\\_decorators.py:36: FutureWarning: Pass the following variables as keyword args: x, y. From version 0.12, the only valid positional argument will be `data`, and passing other arguments without an explicit keyword will result in an error or misinterpretation.\n",
      "  warnings.warn(\n"
     ]
    },
    {
     "data": {
      "text/plain": [
       "<AxesSubplot:xlabel='Year', ylabel='Data_Rates_Property_All'>"
      ]
     },
     "execution_count": 12,
     "metadata": {},
     "output_type": "execute_result"
    },
    {
     "data": {
      "image/png": "[encoded data removed]",
      "text/plain": [
       "<Figure size 432x288 with 1 Axes>"
      ]
     },
     "metadata": {
      "needs_background": "light"
     },
     "output_type": "display_data"
    }
   ],
   "source": [
    "sns.scatterplot(california['Year'], california['Data_Rates_Property_All'])"
   ]
  },
  {
   "cell_type": "code",
   "execution_count": 13,
   "metadata": {},
   "outputs": [
    {
     "name": "stderr",
     "output_type": "stream",
     "text": [
      "c:\\Users\\Agnieszka\\anaconda3\\envs\\data-anatylics\\lib\\site-packages\\seaborn\\_decorators.py:36: FutureWarning: Pass the following variables as keyword args: x, y. From version 0.12, the only valid positional argument will be `data`, and passing other arguments without an explicit keyword will result in an error or misinterpretation.\n",
      "  warnings.warn(\n"
     ]
    },
    {
     "data": {
      "text/plain": [
       "<AxesSubplot:xlabel='Data_Population', ylabel='Data_Rates_Property_All'>"
      ]
     },
     "execution_count": 13,
     "metadata": {},
     "output_type": "execute_result"
    },
    {
     "data": {
      "image/png": "[encoded data removed]",
      "text/plain": [
       "<Figure size 432x288 with 1 Axes>"
      ]
     },
     "metadata": {
      "needs_background": "light"
     },
     "output_type": "display_data"
    }
   ],
   "source": [
    "sns.scatterplot(california['Data_Population'], california['Data_Rates_Property_All'])"
   ]
  },
  {
   "cell_type": "code",
   "execution_count": 20,
   "metadata": {},
   "outputs": [
    {
     "data": {
      "image/png": "[encoded data removed]",
      "text/plain": [
       "<Figure size 504x288 with 1 Axes>"
      ]
     },
     "metadata": {
      "needs_background": "light"
     },
     "output_type": "display_data"
    }
   ],
   "source": [
    "crime_rates_all = california['Data_Rates_Property_All'].to_numpy()\n",
    "fig, ax = plt.subplots(1, 1, figsize = (7, 4))\n",
    "ax.hist(crime_rates_all, bins = 20, density = True)\n",
    "plt.xlabel('Crime Rates Property All')\n",
    "plt.title(str('Crime Rates Property All'))\n",
    "plt.show(ax)"
   ]
  },
  {
   "cell_type": "markdown",
   "metadata": {},
   "source": [
    "# Prior predictive checks"
   ]
  },
  {
   "cell_type": "code",
   "execution_count": 15,
   "metadata": {},
   "outputs": [
    {
     "name": "stdout",
     "output_type": "stream",
     "text": [
      "generated quantities {\n",
      "    real mu = normal_rng(4359, 1703);\n",
      "    real sigma = exponential_rng(1703);\n",
      "    real crime_all_prior = normal_rng(mu, sigma);\n",
      "}\n"
     ]
    }
   ],
   "source": [
    "with open('crime_ppc.stan', 'r') as file:\n",
    "    print(file.read())\n"
   ]
  },
  {
   "cell_type": "code",
   "execution_count": 16,
   "metadata": {},
   "outputs": [
    {
     "name": "stderr",
     "output_type": "stream",
     "text": [
      "INFO:cmdstanpy:found newer exe file, not recompiling\n"
     ]
    }
   ],
   "source": [
    "crime_ppc_model = CmdStanModel(stan_file = 'crime_ppc.stan')\n"
   ]
  },
  {
   "cell_type": "code",
   "execution_count": 17,
   "metadata": {},
   "outputs": [
    {
     "name": "stderr",
     "output_type": "stream",
     "text": [
      "INFO:cmdstanpy:CmdStan start processing\n",
      "chain 1 |\u001b[34m██████████\u001b[0m| 00:00 Sampling completed                      "
     ]
    },
    {
     "name": "stdout",
     "output_type": "stream",
     "text": [
      "                                                                                "
     ]
    },
    {
     "name": "stderr",
     "output_type": "stream",
     "text": [
      "\n",
      "INFO:cmdstanpy:CmdStan done processing.\n"
     ]
    },
    {
     "name": "stdout",
     "output_type": "stream",
     "text": [
      "\n"
     ]
    }
   ],
   "source": [
    "sim = crime_ppc_model.sample(iter_sampling = 1000, iter_warmup = 0, chains = 1, fixed_param = True, seed = 14062022)"
   ]
  },
  {
   "cell_type": "code",
   "execution_count": 18,
   "metadata": {},
   "outputs": [],
   "source": [
    "mu_sim = sim.stan_variable('mu')\n",
    "sigma_sim = sim.stan_variable('sigma')\n",
    "crime_prior_sim = sim.stan_variable('crime_all_prior')\n",
    "\n",
    "# print(mu_sim)\n",
    "# print(sigma_sim)\n",
    "# print(crime_prior_sim)"
   ]
  },
  {
   "cell_type": "code",
   "execution_count": 19,
   "metadata": {},
   "outputs": [
    {
     "data": {
      "image/png": "[encoded data removed]",
      "text/plain": [
       "<Figure size 504x288 with 3 Axes>"
      ]
     },
     "metadata": {
      "needs_background": "light"
     },
     "output_type": "display_data"
    }
   ],
   "source": [
    "fig = plt.figure(figsize = (7, 4))\n",
    "gs = fig.add_gridspec(2, 2)\n",
    "\n",
    "ax1 = fig.add_subplot(gs[1, :])\n",
    "ax1.hist(crime_prior_sim, color = 'red', bins = 20, density = True)\n",
    "# ax1.set_title('Simulated crime rate all')\n",
    "\n",
    "ax2 = fig.add_subplot(gs[0, 0])\n",
    "ax2.hist(mu_sim, bins = 20, color = 'red', density = True)\n",
    "x = np.linspace(0, 10000)\n",
    "y = stats.norm.pdf(x, loc = 4350, scale = 1703)\n",
    "ax2.plot(x, y, 'black')\n",
    "ax2.set_title('$\\mu$')\n",
    "ax2.set_xlim(0,10000)\n",
    "\n",
    "a = 1/1703\n",
    "\n",
    "ax3 = fig.add_subplot(gs[0, 1])\n",
    "ax3.hist(sigma_sim, bins = 20, color = 'red', density = True)\n",
    "x = np.linspace(0, 0.003)\n",
    "y = stats.expon.pdf(x, scale = a)\n",
    "ax3.plot(x, y, color = 'black')\n",
    "ax3.set_title('$\\sigma$')\n",
    "\n",
    "plt.show()"
   ]
  }
 ],
 "metadata": {
  "interpreter": {
   "hash": "3daf6c350f2a0ede664192fc5f83250b54ba88dd11a44229b323659fc71bf29b"
  },
  "kernelspec": {
   "display_name": "Python 3.9.10 ('data-anatylics')",
   "language": "python",
   "name": "python3"
  },
  "language_info": {
   "codemirror_mode": {
    "name": "ipython",
    "version": 3
   },
   "file_extension": ".py",
   "mimetype": "text/x-python",
   "name": "python",
   "nbconvert_exporter": "python",
   "pygments_lexer": "ipython3",
   "version": "3.9.10"
  },
  "orig_nbformat": 4
 },
 "nbformat": 4,
 "nbformat_minor": 2
}
